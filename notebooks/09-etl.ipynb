{
 "cells": [
  {
   "attachments": {},
   "cell_type": "markdown",
   "metadata": {},
   "source": [
    "# ETL\n",
    "\n",
    "<a target=\"_blank\" href=\"https://colab.research.google.com/github/vitostamatti/intro-python/blob/main/notebooks/09-etl.ipynb\">\n",
    "  <img src=\"https://colab.research.google.com/assets/colab-badge.svg\" alt=\"Open In Colab\"/>\n",
    "</a>\n"
   ]
  },
  {
   "attachments": {},
   "cell_type": "markdown",
   "metadata": {},
   "source": [
    "## Extract\n"
   ]
  },
  {
   "cell_type": "code",
   "execution_count": 9,
   "metadata": {},
   "outputs": [],
   "source": [
    "# pip install azure-storage-blob azure-identity\n",
    "import os\n",
    "from azure.storage.blob import BlobServiceClient, BlobClient\n",
    "import pandas as pd\n",
    "import io"
   ]
  },
  {
   "cell_type": "code",
   "execution_count": 10,
   "metadata": {},
   "outputs": [],
   "source": [
    "blob_service_client = BlobServiceClient.from_connection_string(\n",
    "    \"DefaultEndpointsProtocol=https;AccountName=smartsappstorage;AccountKey=MsCRSvFZgXVZyDWudau6a17pItN+D8UDJ8nNPAQ7uq5AZ8p62PrvUki3HaK84kaI2iCIWyYPGBUWB0FWGT4WUw==;EndpointSuffix=core.windows.net\"\n",
    ")"
   ]
  },
  {
   "cell_type": "code",
   "execution_count": 11,
   "metadata": {},
   "outputs": [
    {
     "data": {
      "text/plain": [
       "[{'name': 'azure-webjobs-hosts', 'last_modified': datetime.datetime(2017, 9, 20, 11, 13, 48, tzinfo=datetime.timezone.utc), 'etag': '\"0x8D50018AA6E2B87\"', 'lease': {'status': 'unlocked', 'state': 'available', 'duration': None}, 'public_access': None, 'has_immutability_policy': False, 'deleted': None, 'version': None, 'has_legal_hold': False, 'metadata': None, 'encryption_scope': <azure.storage.blob._models.ContainerEncryptionScope object at 0x0000020E718C5480>, 'immutable_storage_with_versioning_enabled': False},\n",
       " {'name': 'azure-webjobs-secrets', 'last_modified': datetime.datetime(2019, 1, 15, 15, 31, 52, tzinfo=datetime.timezone.utc), 'etag': '\"0x8D67AFE92ECC01E\"', 'lease': {'status': 'unlocked', 'state': 'available', 'duration': None}, 'public_access': None, 'has_immutability_policy': False, 'deleted': None, 'version': None, 'has_legal_hold': False, 'metadata': None, 'encryption_scope': <azure.storage.blob._models.ContainerEncryptionScope object at 0x0000020E718C51B0>, 'immutable_storage_with_versioning_enabled': False},\n",
       " {'name': 'azureportaldeploy', 'last_modified': datetime.datetime(2017, 10, 23, 14, 56, 16, tzinfo=datetime.timezone.utc), 'etag': '\"0x8D51A26367EDF48\"', 'lease': {'status': 'unlocked', 'state': 'available', 'duration': None}, 'public_access': None, 'has_immutability_policy': False, 'deleted': None, 'version': None, 'has_legal_hold': False, 'metadata': None, 'encryption_scope': <azure.storage.blob._models.ContainerEncryptionScope object at 0x0000020E718C5870>, 'immutable_storage_with_versioning_enabled': False},\n",
       " {'name': 'bead', 'last_modified': datetime.datetime(2018, 5, 9, 14, 22, 35, tzinfo=datetime.timezone.utc), 'etag': '\"0x8D5B5B84F92327D\"', 'lease': {'status': 'unlocked', 'state': 'available', 'duration': None}, 'public_access': None, 'has_immutability_policy': False, 'deleted': None, 'version': None, 'has_legal_hold': False, 'metadata': None, 'encryption_scope': <azure.storage.blob._models.ContainerEncryptionScope object at 0x0000020E718C4640>, 'immutable_storage_with_versioning_enabled': False},\n",
       " {'name': 'datos-auctioninsights', 'last_modified': datetime.datetime(2022, 6, 29, 9, 10, 44, tzinfo=datetime.timezone.utc), 'etag': '\"0x8DA59AF3FB24EBE\"', 'lease': {'status': 'unlocked', 'state': 'available', 'duration': None}, 'public_access': 'container', 'has_immutability_policy': False, 'deleted': None, 'version': None, 'has_legal_hold': False, 'metadata': None, 'encryption_scope': <azure.storage.blob._models.ContainerEncryptionScope object at 0x0000020E718C4E20>, 'immutable_storage_with_versioning_enabled': False},\n",
       " {'name': 'datos-gcm', 'last_modified': datetime.datetime(2022, 2, 3, 9, 59, 6, tzinfo=datetime.timezone.utc), 'etag': '\"0x8D9E6FBD0C5F251\"', 'lease': {'status': 'unlocked', 'state': 'available', 'duration': None}, 'public_access': None, 'has_immutability_policy': False, 'deleted': None, 'version': None, 'has_legal_hold': False, 'metadata': None, 'encryption_scope': <azure.storage.blob._models.ContainerEncryptionScope object at 0x0000020E718C6380>, 'immutable_storage_with_versioning_enabled': False},\n",
       " {'name': 'datos-gcm-logger', 'last_modified': datetime.datetime(2022, 10, 17, 8, 25, 5, tzinfo=datetime.timezone.utc), 'etag': '\"0x8DAB01918106CD9\"', 'lease': {'status': 'unlocked', 'state': 'available', 'duration': None}, 'public_access': None, 'has_immutability_policy': False, 'deleted': None, 'version': None, 'has_legal_hold': False, 'metadata': None, 'encryption_scope': <azure.storage.blob._models.ContainerEncryptionScope object at 0x0000020E718C6530>, 'immutable_storage_with_versioning_enabled': False},\n",
       " {'name': 'datos-programatica', 'last_modified': datetime.datetime(2020, 11, 12, 10, 8, 22, tzinfo=datetime.timezone.utc), 'etag': '\"0x8D886F2E309B8F6\"', 'lease': {'status': 'unlocked', 'state': 'available', 'duration': None}, 'public_access': None, 'has_immutability_policy': False, 'deleted': None, 'version': None, 'has_legal_hold': False, 'metadata': None, 'encryption_scope': <azure.storage.blob._models.ContainerEncryptionScope object at 0x0000020E718C6620>, 'immutable_storage_with_versioning_enabled': False},\n",
       " {'name': 'datos-sem', 'last_modified': datetime.datetime(2022, 6, 29, 7, 50, 33, tzinfo=datetime.timezone.utc), 'etag': '\"0x8DA59A40C21C51A\"', 'lease': {'status': 'unlocked', 'state': 'available', 'duration': None}, 'public_access': 'container', 'has_immutability_policy': False, 'deleted': None, 'version': None, 'has_legal_hold': False, 'metadata': None, 'encryption_scope': <azure.storage.blob._models.ContainerEncryptionScope object at 0x0000020E718C6710>, 'immutable_storage_with_versioning_enabled': False},\n",
       " {'name': 'gcm-digiplan', 'last_modified': datetime.datetime(2022, 2, 1, 18, 16, 26, tzinfo=datetime.timezone.utc), 'etag': '\"0x8D9E5AEF5DC8A95\"', 'lease': {'status': 'unlocked', 'state': 'available', 'duration': None}, 'public_access': None, 'has_immutability_policy': False, 'deleted': None, 'version': None, 'has_legal_hold': False, 'metadata': None, 'encryption_scope': <azure.storage.blob._models.ContainerEncryptionScope object at 0x0000020E718C6800>, 'immutable_storage_with_versioning_enabled': False},\n",
       " {'name': 'logossmarts', 'last_modified': datetime.datetime(2017, 11, 2, 14, 19, 9, tzinfo=datetime.timezone.utc), 'etag': '\"0x8D521FCAED68D8E\"', 'lease': {'status': 'unlocked', 'state': 'available', 'duration': None}, 'public_access': 'container', 'has_immutability_policy': False, 'deleted': None, 'version': None, 'has_legal_hold': False, 'metadata': None, 'encryption_scope': <azure.storage.blob._models.ContainerEncryptionScope object at 0x0000020E718C68F0>, 'immutable_storage_with_versioning_enabled': False},\n",
       " {'name': 'loreal-reports-test', 'last_modified': datetime.datetime(2022, 9, 12, 7, 9, 54, tzinfo=datetime.timezone.utc), 'etag': '\"0x8DA948DCAF1AA84\"', 'lease': {'status': 'unlocked', 'state': 'available', 'duration': None}, 'public_access': None, 'has_immutability_policy': False, 'deleted': None, 'version': None, 'has_legal_hold': False, 'metadata': None, 'encryption_scope': <azure.storage.blob._models.ContainerEncryptionScope object at 0x0000020E718C69E0>, 'immutable_storage_with_versioning_enabled': False},\n",
       " {'name': 'reportsprogramatica', 'last_modified': datetime.datetime(2017, 12, 20, 14, 47, 34, tzinfo=datetime.timezone.utc), 'etag': '\"0x8D547B89B211A68\"', 'lease': {'status': 'unlocked', 'state': 'available', 'duration': None}, 'public_access': 'container', 'has_immutability_policy': False, 'deleted': None, 'version': None, 'has_legal_hold': False, 'metadata': None, 'encryption_scope': <azure.storage.blob._models.ContainerEncryptionScope object at 0x0000020E718C6AD0>, 'immutable_storage_with_versioning_enabled': False},\n",
       " {'name': 'samasung-report-logger', 'last_modified': datetime.datetime(2022, 11, 15, 9, 5, 33, tzinfo=datetime.timezone.utc), 'etag': '\"0x8DAC6E88D41E1D7\"', 'lease': {'status': 'unlocked', 'state': 'available', 'duration': None}, 'public_access': None, 'has_immutability_policy': False, 'deleted': None, 'version': None, 'has_legal_hold': False, 'metadata': None, 'encryption_scope': <azure.storage.blob._models.ContainerEncryptionScope object at 0x0000020E718C6BC0>, 'immutable_storage_with_versioning_enabled': False},\n",
       " {'name': 'telepizza-report-logger', 'last_modified': datetime.datetime(2023, 3, 28, 5, 3, 10, tzinfo=datetime.timezone.utc), 'etag': '\"0x8DB2F49BA2AA562\"', 'lease': {'status': 'unlocked', 'state': 'available', 'duration': None}, 'public_access': None, 'has_immutability_policy': False, 'deleted': None, 'version': None, 'has_legal_hold': False, 'metadata': None, 'encryption_scope': <azure.storage.blob._models.ContainerEncryptionScope object at 0x0000020E718C6CB0>, 'immutable_storage_with_versioning_enabled': False},\n",
       " {'name': 'usersavatars', 'last_modified': datetime.datetime(2018, 7, 31, 10, 15, 45, tzinfo=datetime.timezone.utc), 'etag': '\"0x8D5F6CE94968E60\"', 'lease': {'status': 'unlocked', 'state': 'available', 'duration': None}, 'public_access': 'container', 'has_immutability_policy': False, 'deleted': None, 'version': None, 'has_legal_hold': False, 'metadata': None, 'encryption_scope': <azure.storage.blob._models.ContainerEncryptionScope object at 0x0000020E718C6DA0>, 'immutable_storage_with_versioning_enabled': False}]"
      ]
     },
     "execution_count": 11,
     "metadata": {},
     "output_type": "execute_result"
    }
   ],
   "source": [
    "list(blob_service_client.list_containers())"
   ]
  },
  {
   "cell_type": "code",
   "execution_count": 12,
   "metadata": {},
   "outputs": [
    {
     "data": {
      "text/plain": [
       "[{'name': 'Historical Data/Impresiones(MX)_04042023.csv', 'container': 'datos-auctioninsights', 'snapshot': None, 'version_id': None, 'is_current_version': None, 'blob_type': <BlobType.BLOCKBLOB: 'BlockBlob'>, 'metadata': {}, 'encrypted_metadata': None, 'last_modified': datetime.datetime(2023, 4, 10, 13, 24, 40, tzinfo=datetime.timezone.utc), 'etag': '0x8DB39C6F0CE74CF', 'size': 2326345, 'content_range': None, 'append_blob_committed_block_count': None, 'is_append_blob_sealed': None, 'page_blob_sequence_number': None, 'server_encrypted': True, 'copy': {'id': None, 'source': None, 'status': None, 'progress': None, 'completion_time': None, 'status_description': None, 'incremental_copy': None, 'destination_snapshot': None}, 'content_settings': {'content_type': 'application/octet-stream', 'content_encoding': None, 'content_language': None, 'content_md5': None, 'content_disposition': None, 'cache_control': None}, 'lease': {'status': 'unlocked', 'state': 'available', 'duration': None}, 'blob_tier': None, 'rehydrate_priority': None, 'blob_tier_change_time': None, 'blob_tier_inferred': None, 'deleted': None, 'deleted_time': None, 'remaining_retention_days': None, 'creation_time': datetime.datetime(2023, 4, 10, 13, 24, 40, tzinfo=datetime.timezone.utc), 'archive_status': None, 'encryption_key_sha256': None, 'encryption_scope': None, 'request_server_encrypted': None, 'object_replication_source_properties': [], 'object_replication_destination_policy': None, 'last_accessed_on': None, 'tag_count': None, 'tags': None, 'immutability_policy': {'expiry_time': None, 'policy_mode': None}, 'has_legal_hold': None, 'has_versions_only': None},\n",
       " {'name': 'Historical Data/Impresiones(MX)_05032023.csv', 'container': 'datos-auctioninsights', 'snapshot': None, 'version_id': None, 'is_current_version': None, 'blob_type': <BlobType.BLOCKBLOB: 'BlockBlob'>, 'metadata': {}, 'encrypted_metadata': None, 'last_modified': datetime.datetime(2023, 3, 8, 10, 22, 18, tzinfo=datetime.timezone.utc), 'etag': '0x8DB1FBEFF00999E', 'size': 1808577, 'content_range': None, 'append_blob_committed_block_count': None, 'is_append_blob_sealed': None, 'page_blob_sequence_number': None, 'server_encrypted': True, 'copy': {'id': None, 'source': None, 'status': None, 'progress': None, 'completion_time': None, 'status_description': None, 'incremental_copy': None, 'destination_snapshot': None}, 'content_settings': {'content_type': 'application/octet-stream', 'content_encoding': None, 'content_language': None, 'content_md5': None, 'content_disposition': None, 'cache_control': None}, 'lease': {'status': 'unlocked', 'state': 'available', 'duration': None}, 'blob_tier': None, 'rehydrate_priority': None, 'blob_tier_change_time': None, 'blob_tier_inferred': None, 'deleted': None, 'deleted_time': None, 'remaining_retention_days': None, 'creation_time': datetime.datetime(2023, 3, 7, 12, 2, 22, tzinfo=datetime.timezone.utc), 'archive_status': None, 'encryption_key_sha256': None, 'encryption_scope': None, 'request_server_encrypted': None, 'object_replication_source_properties': [], 'object_replication_destination_policy': None, 'last_accessed_on': None, 'tag_count': None, 'tags': None, 'immutability_policy': {'expiry_time': None, 'policy_mode': None}, 'has_legal_hold': None, 'has_versions_only': None},\n",
       " {'name': 'Historical Data/Impresiones(MX)_07022023.csv', 'container': 'datos-auctioninsights', 'snapshot': None, 'version_id': None, 'is_current_version': None, 'blob_type': <BlobType.BLOCKBLOB: 'BlockBlob'>, 'metadata': {}, 'encrypted_metadata': None, 'last_modified': datetime.datetime(2023, 2, 13, 11, 19, 26, tzinfo=datetime.timezone.utc), 'etag': '0x8DB0DB42AEEF57F', 'size': 1574689, 'content_range': None, 'append_blob_committed_block_count': None, 'is_append_blob_sealed': None, 'page_blob_sequence_number': None, 'server_encrypted': True, 'copy': {'id': None, 'source': None, 'status': None, 'progress': None, 'completion_time': None, 'status_description': None, 'incremental_copy': None, 'destination_snapshot': None}, 'content_settings': {'content_type': 'application/octet-stream', 'content_encoding': None, 'content_language': None, 'content_md5': None, 'content_disposition': None, 'cache_control': None}, 'lease': {'status': 'unlocked', 'state': 'available', 'duration': None}, 'blob_tier': None, 'rehydrate_priority': None, 'blob_tier_change_time': None, 'blob_tier_inferred': None, 'deleted': None, 'deleted_time': None, 'remaining_retention_days': None, 'creation_time': datetime.datetime(2023, 2, 13, 11, 19, 26, tzinfo=datetime.timezone.utc), 'archive_status': None, 'encryption_key_sha256': None, 'encryption_scope': None, 'request_server_encrypted': None, 'object_replication_source_properties': [], 'object_replication_destination_policy': None, 'last_accessed_on': None, 'tag_count': None, 'tags': None, 'immutability_policy': {'expiry_time': None, 'policy_mode': None}, 'has_legal_hold': None, 'has_versions_only': None},\n",
       " {'name': 'Historical Data/Impresiones(MX)_24012023.csv', 'container': 'datos-auctioninsights', 'snapshot': None, 'version_id': None, 'is_current_version': None, 'blob_type': <BlobType.BLOCKBLOB: 'BlockBlob'>, 'metadata': {}, 'encrypted_metadata': None, 'last_modified': datetime.datetime(2023, 2, 1, 8, 58, 57, tzinfo=datetime.timezone.utc), 'etag': '0x8DB04328DEB4AED', 'size': 1354587, 'content_range': None, 'append_blob_committed_block_count': None, 'is_append_blob_sealed': None, 'page_blob_sequence_number': None, 'server_encrypted': True, 'copy': {'id': None, 'source': None, 'status': None, 'progress': None, 'completion_time': None, 'status_description': None, 'incremental_copy': None, 'destination_snapshot': None}, 'content_settings': {'content_type': 'application/octet-stream', 'content_encoding': None, 'content_language': None, 'content_md5': None, 'content_disposition': None, 'cache_control': None}, 'lease': {'status': 'unlocked', 'state': 'available', 'duration': None}, 'blob_tier': None, 'rehydrate_priority': None, 'blob_tier_change_time': None, 'blob_tier_inferred': None, 'deleted': None, 'deleted_time': None, 'remaining_retention_days': None, 'creation_time': datetime.datetime(2023, 2, 1, 7, 55, tzinfo=datetime.timezone.utc), 'archive_status': None, 'encryption_key_sha256': None, 'encryption_scope': None, 'request_server_encrypted': None, 'object_replication_source_properties': [], 'object_replication_destination_policy': None, 'last_accessed_on': None, 'tag_count': None, 'tags': None, 'immutability_policy': {'expiry_time': None, 'policy_mode': None}, 'has_legal_hold': None, 'has_versions_only': None},\n",
       " {'name': 'Historical Data/Impresiones(PERFORMICSMX)_10042023.csv', 'container': 'datos-auctioninsights', 'snapshot': None, 'version_id': None, 'is_current_version': None, 'blob_type': <BlobType.BLOCKBLOB: 'BlockBlob'>, 'metadata': {}, 'encrypted_metadata': None, 'last_modified': datetime.datetime(2023, 4, 10, 13, 31, 45, tzinfo=datetime.timezone.utc), 'etag': '0x8DB39C7EDE84292', 'size': 798752, 'content_range': None, 'append_blob_committed_block_count': None, 'is_append_blob_sealed': None, 'page_blob_sequence_number': None, 'server_encrypted': True, 'copy': {'id': None, 'source': None, 'status': None, 'progress': None, 'completion_time': None, 'status_description': None, 'incremental_copy': None, 'destination_snapshot': None}, 'content_settings': {'content_type': 'application/octet-stream', 'content_encoding': None, 'content_language': None, 'content_md5': None, 'content_disposition': None, 'cache_control': None}, 'lease': {'status': 'unlocked', 'state': 'available', 'duration': None}, 'blob_tier': None, 'rehydrate_priority': None, 'blob_tier_change_time': None, 'blob_tier_inferred': None, 'deleted': None, 'deleted_time': None, 'remaining_retention_days': None, 'creation_time': datetime.datetime(2023, 4, 10, 13, 31, 45, tzinfo=datetime.timezone.utc), 'archive_status': None, 'encryption_key_sha256': None, 'encryption_scope': None, 'request_server_encrypted': None, 'object_replication_source_properties': [], 'object_replication_destination_policy': None, 'last_accessed_on': None, 'tag_count': None, 'tags': None, 'immutability_policy': {'expiry_time': None, 'policy_mode': None}, 'has_legal_hold': None, 'has_versions_only': None},\n",
       " {'name': 'Historical Data/Impresiones(VIVAKI)_07022023.csv', 'container': 'datos-auctioninsights', 'snapshot': None, 'version_id': None, 'is_current_version': None, 'blob_type': <BlobType.BLOCKBLOB: 'BlockBlob'>, 'metadata': {}, 'encrypted_metadata': None, 'last_modified': datetime.datetime(2023, 2, 13, 12, 11, 7, tzinfo=datetime.timezone.utc), 'etag': '0x8DB0DBB62FCDFF3', 'size': 13917344, 'content_range': None, 'append_blob_committed_block_count': None, 'is_append_blob_sealed': None, 'page_blob_sequence_number': None, 'server_encrypted': True, 'copy': {'id': None, 'source': None, 'status': None, 'progress': None, 'completion_time': None, 'status_description': None, 'incremental_copy': None, 'destination_snapshot': None}, 'content_settings': {'content_type': 'application/octet-stream', 'content_encoding': None, 'content_language': None, 'content_md5': None, 'content_disposition': None, 'cache_control': None}, 'lease': {'status': 'unlocked', 'state': 'available', 'duration': None}, 'blob_tier': None, 'rehydrate_priority': None, 'blob_tier_change_time': None, 'blob_tier_inferred': None, 'deleted': None, 'deleted_time': None, 'remaining_retention_days': None, 'creation_time': datetime.datetime(2023, 2, 13, 11, 32, 29, tzinfo=datetime.timezone.utc), 'archive_status': None, 'encryption_key_sha256': None, 'encryption_scope': None, 'request_server_encrypted': None, 'object_replication_source_properties': [], 'object_replication_destination_policy': None, 'last_accessed_on': None, 'tag_count': None, 'tags': None, 'immutability_policy': {'expiry_time': None, 'policy_mode': None}, 'has_legal_hold': None, 'has_versions_only': None},\n",
       " {'name': 'Historical Data/Impresiones(VIVAKI)_10042023.csv', 'container': 'datos-auctioninsights', 'snapshot': None, 'version_id': None, 'is_current_version': None, 'blob_type': <BlobType.BLOCKBLOB: 'BlockBlob'>, 'metadata': {}, 'encrypted_metadata': None, 'last_modified': datetime.datetime(2023, 4, 10, 13, 39, 39, tzinfo=datetime.timezone.utc), 'etag': '0x8DB39C9088504CD', 'size': 11979497, 'content_range': None, 'append_blob_committed_block_count': None, 'is_append_blob_sealed': None, 'page_blob_sequence_number': None, 'server_encrypted': True, 'copy': {'id': None, 'source': None, 'status': None, 'progress': None, 'completion_time': None, 'status_description': None, 'incremental_copy': None, 'destination_snapshot': None}, 'content_settings': {'content_type': 'application/octet-stream', 'content_encoding': None, 'content_language': None, 'content_md5': None, 'content_disposition': None, 'cache_control': None}, 'lease': {'status': 'unlocked', 'state': 'available', 'duration': None}, 'blob_tier': None, 'rehydrate_priority': None, 'blob_tier_change_time': None, 'blob_tier_inferred': None, 'deleted': None, 'deleted_time': None, 'remaining_retention_days': None, 'creation_time': datetime.datetime(2023, 4, 10, 13, 39, 39, tzinfo=datetime.timezone.utc), 'archive_status': None, 'encryption_key_sha256': None, 'encryption_scope': None, 'request_server_encrypted': None, 'object_replication_source_properties': [], 'object_replication_destination_policy': None, 'last_accessed_on': None, 'tag_count': None, 'tags': None, 'immutability_policy': {'expiry_time': None, 'policy_mode': None}, 'has_legal_hold': None, 'has_versions_only': None},\n",
       " {'name': 'Historical Data/Impresiones(VIVAKI)_24012023.csv', 'container': 'datos-auctioninsights', 'snapshot': None, 'version_id': None, 'is_current_version': None, 'blob_type': <BlobType.BLOCKBLOB: 'BlockBlob'>, 'metadata': {}, 'encrypted_metadata': None, 'last_modified': datetime.datetime(2023, 2, 1, 9, 4, 15, tzinfo=datetime.timezone.utc), 'etag': '0x8DB04334B3FB0D7', 'size': 15242654, 'content_range': None, 'append_blob_committed_block_count': None, 'is_append_blob_sealed': None, 'page_blob_sequence_number': None, 'server_encrypted': True, 'copy': {'id': None, 'source': None, 'status': None, 'progress': None, 'completion_time': None, 'status_description': None, 'incremental_copy': None, 'destination_snapshot': None}, 'content_settings': {'content_type': 'application/octet-stream', 'content_encoding': None, 'content_language': None, 'content_md5': None, 'content_disposition': None, 'cache_control': None}, 'lease': {'status': 'unlocked', 'state': 'available', 'duration': None}, 'blob_tier': None, 'rehydrate_priority': None, 'blob_tier_change_time': None, 'blob_tier_inferred': None, 'deleted': None, 'deleted_time': None, 'remaining_retention_days': None, 'creation_time': datetime.datetime(2023, 2, 1, 9, 4, 15, tzinfo=datetime.timezone.utc), 'archive_status': None, 'encryption_key_sha256': None, 'encryption_scope': None, 'request_server_encrypted': None, 'object_replication_source_properties': [], 'object_replication_destination_policy': None, 'last_accessed_on': None, 'tag_count': None, 'tags': None, 'immutability_policy': {'expiry_time': None, 'policy_mode': None}, 'has_legal_hold': None, 'has_versions_only': None},\n",
       " {'name': 'Historical Data/Impresiones_MX.csv', 'container': 'datos-auctioninsights', 'snapshot': None, 'version_id': None, 'is_current_version': None, 'blob_type': <BlobType.BLOCKBLOB: 'BlockBlob'>, 'metadata': {}, 'encrypted_metadata': None, 'last_modified': datetime.datetime(2023, 5, 8, 9, 52, 39, tzinfo=datetime.timezone.utc), 'etag': '0x8DB4FA9F5D963AD', 'size': 7629815, 'content_range': None, 'append_blob_committed_block_count': None, 'is_append_blob_sealed': None, 'page_blob_sequence_number': None, 'server_encrypted': True, 'copy': {'id': None, 'source': None, 'status': None, 'progress': None, 'completion_time': None, 'status_description': None, 'incremental_copy': None, 'destination_snapshot': None}, 'content_settings': {'content_type': 'application/octet-stream', 'content_encoding': None, 'content_language': None, 'content_md5': None, 'content_disposition': None, 'cache_control': None}, 'lease': {'status': 'unlocked', 'state': 'available', 'duration': None}, 'blob_tier': None, 'rehydrate_priority': None, 'blob_tier_change_time': None, 'blob_tier_inferred': None, 'deleted': None, 'deleted_time': None, 'remaining_retention_days': None, 'creation_time': datetime.datetime(2023, 5, 5, 9, 30, 52, tzinfo=datetime.timezone.utc), 'archive_status': None, 'encryption_key_sha256': None, 'encryption_scope': None, 'request_server_encrypted': None, 'object_replication_source_properties': [], 'object_replication_destination_policy': None, 'last_accessed_on': None, 'tag_count': None, 'tags': None, 'immutability_policy': {'expiry_time': None, 'policy_mode': None}, 'has_legal_hold': None, 'has_versions_only': None},\n",
       " {'name': 'Historical Data/Impresiones_PERFORMICSMX.csv', 'container': 'datos-auctioninsights', 'snapshot': None, 'version_id': None, 'is_current_version': None, 'blob_type': <BlobType.BLOCKBLOB: 'BlockBlob'>, 'metadata': {}, 'encrypted_metadata': None, 'last_modified': datetime.datetime(2023, 5, 8, 9, 59, 40, tzinfo=datetime.timezone.utc), 'etag': '0x8DB4FAAF071A65E', 'size': 2822120, 'content_range': None, 'append_blob_committed_block_count': None, 'is_append_blob_sealed': None, 'page_blob_sequence_number': None, 'server_encrypted': True, 'copy': {'id': None, 'source': None, 'status': None, 'progress': None, 'completion_time': None, 'status_description': None, 'incremental_copy': None, 'destination_snapshot': None}, 'content_settings': {'content_type': 'application/octet-stream', 'content_encoding': None, 'content_language': None, 'content_md5': None, 'content_disposition': None, 'cache_control': None}, 'lease': {'status': 'unlocked', 'state': 'available', 'duration': None}, 'blob_tier': None, 'rehydrate_priority': None, 'blob_tier_change_time': None, 'blob_tier_inferred': None, 'deleted': None, 'deleted_time': None, 'remaining_retention_days': None, 'creation_time': datetime.datetime(2023, 3, 8, 9, 35, 16, tzinfo=datetime.timezone.utc), 'archive_status': None, 'encryption_key_sha256': None, 'encryption_scope': None, 'request_server_encrypted': None, 'object_replication_source_properties': [], 'object_replication_destination_policy': None, 'last_accessed_on': None, 'tag_count': None, 'tags': None, 'immutability_policy': {'expiry_time': None, 'policy_mode': None}, 'has_legal_hold': None, 'has_versions_only': None},\n",
       " {'name': 'Historical Data/Impresiones_VIVAKI.csv', 'container': 'datos-auctioninsights', 'snapshot': None, 'version_id': None, 'is_current_version': None, 'blob_type': <BlobType.BLOCKBLOB: 'BlockBlob'>, 'metadata': {}, 'encrypted_metadata': None, 'last_modified': datetime.datetime(2023, 5, 8, 10, 15, 45, tzinfo=datetime.timezone.utc), 'etag': '0x8DB4FAD30219FAD', 'size': 49745514, 'content_range': None, 'append_blob_committed_block_count': None, 'is_append_blob_sealed': None, 'page_blob_sequence_number': None, 'server_encrypted': True, 'copy': {'id': None, 'source': None, 'status': None, 'progress': None, 'completion_time': None, 'status_description': None, 'incremental_copy': None, 'destination_snapshot': None}, 'content_settings': {'content_type': 'application/octet-stream', 'content_encoding': None, 'content_language': None, 'content_md5': None, 'content_disposition': None, 'cache_control': None}, 'lease': {'status': 'unlocked', 'state': 'available', 'duration': None}, 'blob_tier': None, 'rehydrate_priority': None, 'blob_tier_change_time': None, 'blob_tier_inferred': None, 'deleted': None, 'deleted_time': None, 'remaining_retention_days': None, 'creation_time': datetime.datetime(2023, 2, 14, 12, 12, 28, tzinfo=datetime.timezone.utc), 'archive_status': None, 'encryption_key_sha256': None, 'encryption_scope': None, 'request_server_encrypted': None, 'object_replication_source_properties': [], 'object_replication_destination_policy': None, 'last_accessed_on': None, 'tag_count': None, 'tags': None, 'immutability_policy': {'expiry_time': None, 'policy_mode': None}, 'has_legal_hold': None, 'has_versions_only': None},\n",
       " {'name': 'Historical Data/PalabrasClave(MX)_04042023.csv', 'container': 'datos-auctioninsights', 'snapshot': None, 'version_id': None, 'is_current_version': None, 'blob_type': <BlobType.BLOCKBLOB: 'BlockBlob'>, 'metadata': {}, 'encrypted_metadata': None, 'last_modified': datetime.datetime(2023, 4, 10, 13, 24, 26, tzinfo=datetime.timezone.utc), 'etag': '0x8DB39C6E8321FFC', 'size': 6693599, 'content_range': None, 'append_blob_committed_block_count': None, 'is_append_blob_sealed': None, 'page_blob_sequence_number': None, 'server_encrypted': True, 'copy': {'id': None, 'source': None, 'status': None, 'progress': None, 'completion_time': None, 'status_description': None, 'incremental_copy': None, 'destination_snapshot': None}, 'content_settings': {'content_type': 'application/octet-stream', 'content_encoding': None, 'content_language': None, 'content_md5': None, 'content_disposition': None, 'cache_control': None}, 'lease': {'status': 'unlocked', 'state': 'available', 'duration': None}, 'blob_tier': None, 'rehydrate_priority': None, 'blob_tier_change_time': None, 'blob_tier_inferred': None, 'deleted': None, 'deleted_time': None, 'remaining_retention_days': None, 'creation_time': datetime.datetime(2023, 4, 10, 13, 24, 26, tzinfo=datetime.timezone.utc), 'archive_status': None, 'encryption_key_sha256': None, 'encryption_scope': None, 'request_server_encrypted': None, 'object_replication_source_properties': [], 'object_replication_destination_policy': None, 'last_accessed_on': None, 'tag_count': None, 'tags': None, 'immutability_policy': {'expiry_time': None, 'policy_mode': None}, 'has_legal_hold': None, 'has_versions_only': None},\n",
       " {'name': 'Historical Data/PalabrasClave(MX)_05032023.csv', 'container': 'datos-auctioninsights', 'snapshot': None, 'version_id': None, 'is_current_version': None, 'blob_type': <BlobType.BLOCKBLOB: 'BlockBlob'>, 'metadata': {}, 'encrypted_metadata': None, 'last_modified': datetime.datetime(2023, 3, 8, 10, 22, 7, tzinfo=datetime.timezone.utc), 'etag': '0x8DB1FBEF8207043', 'size': 5928865, 'content_range': None, 'append_blob_committed_block_count': None, 'is_append_blob_sealed': None, 'page_blob_sequence_number': None, 'server_encrypted': True, 'copy': {'id': None, 'source': None, 'status': None, 'progress': None, 'completion_time': None, 'status_description': None, 'incremental_copy': None, 'destination_snapshot': None}, 'content_settings': {'content_type': 'application/octet-stream', 'content_encoding': None, 'content_language': None, 'content_md5': None, 'content_disposition': None, 'cache_control': None}, 'lease': {'status': 'unlocked', 'state': 'available', 'duration': None}, 'blob_tier': None, 'rehydrate_priority': None, 'blob_tier_change_time': None, 'blob_tier_inferred': None, 'deleted': None, 'deleted_time': None, 'remaining_retention_days': None, 'creation_time': datetime.datetime(2023, 3, 7, 12, 2, 8, tzinfo=datetime.timezone.utc), 'archive_status': None, 'encryption_key_sha256': None, 'encryption_scope': None, 'request_server_encrypted': None, 'object_replication_source_properties': [], 'object_replication_destination_policy': None, 'last_accessed_on': None, 'tag_count': None, 'tags': None, 'immutability_policy': {'expiry_time': None, 'policy_mode': None}, 'has_legal_hold': None, 'has_versions_only': None},\n",
       " {'name': 'Historical Data/PalabrasClave(MX)_07022023.csv', 'container': 'datos-auctioninsights', 'snapshot': None, 'version_id': None, 'is_current_version': None, 'blob_type': <BlobType.BLOCKBLOB: 'BlockBlob'>, 'metadata': {}, 'encrypted_metadata': None, 'last_modified': datetime.datetime(2023, 2, 13, 11, 19, 10, tzinfo=datetime.timezone.utc), 'etag': '0x8DB0DB4212820A6', 'size': 5973793, 'content_range': None, 'append_blob_committed_block_count': None, 'is_append_blob_sealed': None, 'page_blob_sequence_number': None, 'server_encrypted': True, 'copy': {'id': None, 'source': None, 'status': None, 'progress': None, 'completion_time': None, 'status_description': None, 'incremental_copy': None, 'destination_snapshot': None}, 'content_settings': {'content_type': 'application/octet-stream', 'content_encoding': None, 'content_language': None, 'content_md5': None, 'content_disposition': None, 'cache_control': None}, 'lease': {'status': 'unlocked', 'state': 'available', 'duration': None}, 'blob_tier': None, 'rehydrate_priority': None, 'blob_tier_change_time': None, 'blob_tier_inferred': None, 'deleted': None, 'deleted_time': None, 'remaining_retention_days': None, 'creation_time': datetime.datetime(2023, 2, 13, 11, 19, 10, tzinfo=datetime.timezone.utc), 'archive_status': None, 'encryption_key_sha256': None, 'encryption_scope': None, 'request_server_encrypted': None, 'object_replication_source_properties': [], 'object_replication_destination_policy': None, 'last_accessed_on': None, 'tag_count': None, 'tags': None, 'immutability_policy': {'expiry_time': None, 'policy_mode': None}, 'has_legal_hold': None, 'has_versions_only': None},\n",
       " {'name': 'Historical Data/PalabrasClave(MX)_24012023.csv', 'container': 'datos-auctioninsights', 'snapshot': None, 'version_id': None, 'is_current_version': None, 'blob_type': <BlobType.BLOCKBLOB: 'BlockBlob'>, 'metadata': {}, 'encrypted_metadata': None, 'last_modified': datetime.datetime(2023, 2, 1, 8, 58, 40, tzinfo=datetime.timezone.utc), 'etag': '0x8DB043283AFA393', 'size': 5703743, 'content_range': None, 'append_blob_committed_block_count': None, 'is_append_blob_sealed': None, 'page_blob_sequence_number': None, 'server_encrypted': True, 'copy': {'id': None, 'source': None, 'status': None, 'progress': None, 'completion_time': None, 'status_description': None, 'incremental_copy': None, 'destination_snapshot': None}, 'content_settings': {'content_type': 'application/octet-stream', 'content_encoding': None, 'content_language': None, 'content_md5': None, 'content_disposition': None, 'cache_control': None}, 'lease': {'status': 'unlocked', 'state': 'available', 'duration': None}, 'blob_tier': None, 'rehydrate_priority': None, 'blob_tier_change_time': None, 'blob_tier_inferred': None, 'deleted': None, 'deleted_time': None, 'remaining_retention_days': None, 'creation_time': datetime.datetime(2023, 2, 1, 8, 58, 40, tzinfo=datetime.timezone.utc), 'archive_status': None, 'encryption_key_sha256': None, 'encryption_scope': None, 'request_server_encrypted': None, 'object_replication_source_properties': [], 'object_replication_destination_policy': None, 'last_accessed_on': None, 'tag_count': None, 'tags': None, 'immutability_policy': {'expiry_time': None, 'policy_mode': None}, 'has_legal_hold': None, 'has_versions_only': None},\n",
       " {'name': 'Historical Data/PalabrasClave(PERFORMICSMX)_10042023.csv', 'container': 'datos-auctioninsights', 'snapshot': None, 'version_id': None, 'is_current_version': None, 'blob_type': <BlobType.BLOCKBLOB: 'BlockBlob'>, 'metadata': {}, 'encrypted_metadata': None, 'last_modified': datetime.datetime(2023, 4, 10, 13, 31, 34, tzinfo=datetime.timezone.utc), 'etag': '0x8DB39C7E780048D', 'size': 2624125, 'content_range': None, 'append_blob_committed_block_count': None, 'is_append_blob_sealed': None, 'page_blob_sequence_number': None, 'server_encrypted': True, 'copy': {'id': None, 'source': None, 'status': None, 'progress': None, 'completion_time': None, 'status_description': None, 'incremental_copy': None, 'destination_snapshot': None}, 'content_settings': {'content_type': 'application/octet-stream', 'content_encoding': None, 'content_language': None, 'content_md5': None, 'content_disposition': None, 'cache_control': None}, 'lease': {'status': 'unlocked', 'state': 'available', 'duration': None}, 'blob_tier': None, 'rehydrate_priority': None, 'blob_tier_change_time': None, 'blob_tier_inferred': None, 'deleted': None, 'deleted_time': None, 'remaining_retention_days': None, 'creation_time': datetime.datetime(2023, 4, 10, 13, 31, 34, tzinfo=datetime.timezone.utc), 'archive_status': None, 'encryption_key_sha256': None, 'encryption_scope': None, 'request_server_encrypted': None, 'object_replication_source_properties': [], 'object_replication_destination_policy': None, 'last_accessed_on': None, 'tag_count': None, 'tags': None, 'immutability_policy': {'expiry_time': None, 'policy_mode': None}, 'has_legal_hold': None, 'has_versions_only': None},\n",
       " {'name': 'Historical Data/PalabrasClave(VIVAKI)_07022023.csv', 'container': 'datos-auctioninsights', 'snapshot': None, 'version_id': None, 'is_current_version': None, 'blob_type': <BlobType.BLOCKBLOB: 'BlockBlob'>, 'metadata': {}, 'encrypted_metadata': None, 'last_modified': datetime.datetime(2023, 2, 13, 12, 10, 54, tzinfo=datetime.timezone.utc), 'etag': '0x8DB0DBB5B2B4FA2', 'size': 100029079, 'content_range': None, 'append_blob_committed_block_count': None, 'is_append_blob_sealed': None, 'page_blob_sequence_number': None, 'server_encrypted': True, 'copy': {'id': None, 'source': None, 'status': None, 'progress': None, 'completion_time': None, 'status_description': None, 'incremental_copy': None, 'destination_snapshot': None}, 'content_settings': {'content_type': 'application/octet-stream', 'content_encoding': None, 'content_language': None, 'content_md5': None, 'content_disposition': None, 'cache_control': None}, 'lease': {'status': 'unlocked', 'state': 'available', 'duration': None}, 'blob_tier': None, 'rehydrate_priority': None, 'blob_tier_change_time': None, 'blob_tier_inferred': None, 'deleted': None, 'deleted_time': None, 'remaining_retention_days': None, 'creation_time': datetime.datetime(2023, 2, 13, 11, 32, 15, tzinfo=datetime.timezone.utc), 'archive_status': None, 'encryption_key_sha256': None, 'encryption_scope': None, 'request_server_encrypted': None, 'object_replication_source_properties': [], 'object_replication_destination_policy': None, 'last_accessed_on': None, 'tag_count': None, 'tags': None, 'immutability_policy': {'expiry_time': None, 'policy_mode': None}, 'has_legal_hold': None, 'has_versions_only': None},\n",
       " {'name': 'Historical Data/PalabrasClave(VIVAKI)_10042023.csv', 'container': 'datos-auctioninsights', 'snapshot': None, 'version_id': None, 'is_current_version': None, 'blob_type': <BlobType.BLOCKBLOB: 'BlockBlob'>, 'metadata': {}, 'encrypted_metadata': None, 'last_modified': datetime.datetime(2023, 4, 10, 13, 39, 25, tzinfo=datetime.timezone.utc), 'etag': '0x8DB39C90053BDEA', 'size': 73972121, 'content_range': None, 'append_blob_committed_block_count': None, 'is_append_blob_sealed': None, 'page_blob_sequence_number': None, 'server_encrypted': True, 'copy': {'id': None, 'source': None, 'status': None, 'progress': None, 'completion_time': None, 'status_description': None, 'incremental_copy': None, 'destination_snapshot': None}, 'content_settings': {'content_type': 'application/octet-stream', 'content_encoding': None, 'content_language': None, 'content_md5': None, 'content_disposition': None, 'cache_control': None}, 'lease': {'status': 'unlocked', 'state': 'available', 'duration': None}, 'blob_tier': None, 'rehydrate_priority': None, 'blob_tier_change_time': None, 'blob_tier_inferred': None, 'deleted': None, 'deleted_time': None, 'remaining_retention_days': None, 'creation_time': datetime.datetime(2023, 4, 10, 13, 39, 25, tzinfo=datetime.timezone.utc), 'archive_status': None, 'encryption_key_sha256': None, 'encryption_scope': None, 'request_server_encrypted': None, 'object_replication_source_properties': [], 'object_replication_destination_policy': None, 'last_accessed_on': None, 'tag_count': None, 'tags': None, 'immutability_policy': {'expiry_time': None, 'policy_mode': None}, 'has_legal_hold': None, 'has_versions_only': None},\n",
       " {'name': 'Historical Data/PalabrasClave(VIVAKI)_24012023.csv', 'container': 'datos-auctioninsights', 'snapshot': None, 'version_id': None, 'is_current_version': None, 'blob_type': <BlobType.BLOCKBLOB: 'BlockBlob'>, 'metadata': {}, 'encrypted_metadata': None, 'last_modified': datetime.datetime(2023, 2, 1, 9, 3, 41, tzinfo=datetime.timezone.utc), 'etag': '0x8DB043336C22354', 'size': 107916976, 'content_range': None, 'append_blob_committed_block_count': None, 'is_append_blob_sealed': None, 'page_blob_sequence_number': None, 'server_encrypted': True, 'copy': {'id': None, 'source': None, 'status': None, 'progress': None, 'completion_time': None, 'status_description': None, 'incremental_copy': None, 'destination_snapshot': None}, 'content_settings': {'content_type': 'application/octet-stream', 'content_encoding': None, 'content_language': None, 'content_md5': None, 'content_disposition': None, 'cache_control': None}, 'lease': {'status': 'unlocked', 'state': 'available', 'duration': None}, 'blob_tier': None, 'rehydrate_priority': None, 'blob_tier_change_time': None, 'blob_tier_inferred': None, 'deleted': None, 'deleted_time': None, 'remaining_retention_days': None, 'creation_time': datetime.datetime(2023, 2, 1, 9, 3, 41, tzinfo=datetime.timezone.utc), 'archive_status': None, 'encryption_key_sha256': None, 'encryption_scope': None, 'request_server_encrypted': None, 'object_replication_source_properties': [], 'object_replication_destination_policy': None, 'last_accessed_on': None, 'tag_count': None, 'tags': None, 'immutability_policy': {'expiry_time': None, 'policy_mode': None}, 'has_legal_hold': None, 'has_versions_only': None},\n",
       " {'name': 'Historical Data/PalabrasClave_MX.csv', 'container': 'datos-auctioninsights', 'snapshot': None, 'version_id': None, 'is_current_version': None, 'blob_type': <BlobType.BLOCKBLOB: 'BlockBlob'>, 'metadata': {}, 'encrypted_metadata': None, 'last_modified': datetime.datetime(2023, 5, 8, 9, 52, 21, tzinfo=datetime.timezone.utc), 'etag': '0x8DB4FA9EB2970B9', 'size': 25153015, 'content_range': None, 'append_blob_committed_block_count': None, 'is_append_blob_sealed': None, 'page_blob_sequence_number': None, 'server_encrypted': True, 'copy': {'id': None, 'source': None, 'status': None, 'progress': None, 'completion_time': None, 'status_description': None, 'incremental_copy': None, 'destination_snapshot': None}, 'content_settings': {'content_type': 'application/octet-stream', 'content_encoding': None, 'content_language': None, 'content_md5': None, 'content_disposition': None, 'cache_control': None}, 'lease': {'status': 'unlocked', 'state': 'available', 'duration': None}, 'blob_tier': None, 'rehydrate_priority': None, 'blob_tier_change_time': None, 'blob_tier_inferred': None, 'deleted': None, 'deleted_time': None, 'remaining_retention_days': None, 'creation_time': datetime.datetime(2023, 5, 5, 9, 30, 37, tzinfo=datetime.timezone.utc), 'archive_status': None, 'encryption_key_sha256': None, 'encryption_scope': None, 'request_server_encrypted': None, 'object_replication_source_properties': [], 'object_replication_destination_policy': None, 'last_accessed_on': None, 'tag_count': None, 'tags': None, 'immutability_policy': {'expiry_time': None, 'policy_mode': None}, 'has_legal_hold': None, 'has_versions_only': None},\n",
       " {'name': 'Historical Data/PalabrasClave_PERFORMICSMX.csv', 'container': 'datos-auctioninsights', 'snapshot': None, 'version_id': None, 'is_current_version': None, 'blob_type': <BlobType.BLOCKBLOB: 'BlockBlob'>, 'metadata': {}, 'encrypted_metadata': None, 'last_modified': datetime.datetime(2023, 5, 8, 9, 59, 28, tzinfo=datetime.timezone.utc), 'etag': '0x8DB4FAAE949E307', 'size': 9046690, 'content_range': None, 'append_blob_committed_block_count': None, 'is_append_blob_sealed': None, 'page_blob_sequence_number': None, 'server_encrypted': True, 'copy': {'id': None, 'source': None, 'status': None, 'progress': None, 'completion_time': None, 'status_description': None, 'incremental_copy': None, 'destination_snapshot': None}, 'content_settings': {'content_type': 'application/octet-stream', 'content_encoding': None, 'content_language': None, 'content_md5': None, 'content_disposition': None, 'cache_control': None}, 'lease': {'status': 'unlocked', 'state': 'available', 'duration': None}, 'blob_tier': None, 'rehydrate_priority': None, 'blob_tier_change_time': None, 'blob_tier_inferred': None, 'deleted': None, 'deleted_time': None, 'remaining_retention_days': None, 'creation_time': datetime.datetime(2023, 3, 8, 9, 35, 2, tzinfo=datetime.timezone.utc), 'archive_status': None, 'encryption_key_sha256': None, 'encryption_scope': None, 'request_server_encrypted': None, 'object_replication_source_properties': [], 'object_replication_destination_policy': None, 'last_accessed_on': None, 'tag_count': None, 'tags': None, 'immutability_policy': {'expiry_time': None, 'policy_mode': None}, 'has_legal_hold': None, 'has_versions_only': None},\n",
       " {'name': 'Historical Data/PalabrasClave_VIVAKI.csv', 'container': 'datos-auctioninsights', 'snapshot': None, 'version_id': None, 'is_current_version': None, 'blob_type': <BlobType.BLOCKBLOB: 'BlockBlob'>, 'metadata': {}, 'encrypted_metadata': None, 'last_modified': datetime.datetime(2023, 5, 8, 10, 14, 57, tzinfo=datetime.timezone.utc), 'etag': '0x8DB4FAD13538B30', 'size': 351364477, 'content_range': None, 'append_blob_committed_block_count': None, 'is_append_blob_sealed': None, 'page_blob_sequence_number': None, 'server_encrypted': True, 'copy': {'id': None, 'source': None, 'status': None, 'progress': None, 'completion_time': None, 'status_description': None, 'incremental_copy': None, 'destination_snapshot': None}, 'content_settings': {'content_type': 'application/octet-stream', 'content_encoding': None, 'content_language': None, 'content_md5': None, 'content_disposition': None, 'cache_control': None}, 'lease': {'status': 'unlocked', 'state': 'available', 'duration': None}, 'blob_tier': None, 'rehydrate_priority': None, 'blob_tier_change_time': None, 'blob_tier_inferred': None, 'deleted': None, 'deleted_time': None, 'remaining_retention_days': None, 'creation_time': datetime.datetime(2023, 2, 14, 12, 12, 5, tzinfo=datetime.timezone.utc), 'archive_status': None, 'encryption_key_sha256': None, 'encryption_scope': None, 'request_server_encrypted': None, 'object_replication_source_properties': [], 'object_replication_destination_policy': None, 'last_accessed_on': None, 'tag_count': None, 'tags': None, 'immutability_policy': {'expiry_time': None, 'policy_mode': None}, 'has_legal_hold': None, 'has_versions_only': None},\n",
       " {'name': 'Historical Data/Test Palabras clave % js (1).csv', 'container': 'datos-auctioninsights', 'snapshot': None, 'version_id': None, 'is_current_version': None, 'blob_type': <BlobType.BLOCKBLOB: 'BlockBlob'>, 'metadata': {}, 'encrypted_metadata': None, 'last_modified': datetime.datetime(2022, 11, 8, 12, 55, 22, tzinfo=datetime.timezone.utc), 'etag': '0x8DAC1887F5E9DFA', 'size': 14086228, 'content_range': None, 'append_blob_committed_block_count': None, 'is_append_blob_sealed': None, 'page_blob_sequence_number': None, 'server_encrypted': True, 'copy': {'id': None, 'source': None, 'status': None, 'progress': None, 'completion_time': None, 'status_description': None, 'incremental_copy': None, 'destination_snapshot': None}, 'content_settings': {'content_type': 'text/csv', 'content_encoding': None, 'content_language': None, 'content_md5': bytearray(b'\\xa8\\x97\\x85\\x86\\x8eE\\t\\x949o0\\xd2\\x1csDk'), 'content_disposition': None, 'cache_control': None}, 'lease': {'status': 'unlocked', 'state': 'available', 'duration': None}, 'blob_tier': None, 'rehydrate_priority': None, 'blob_tier_change_time': None, 'blob_tier_inferred': None, 'deleted': None, 'deleted_time': None, 'remaining_retention_days': None, 'creation_time': datetime.datetime(2022, 11, 8, 12, 55, 22, tzinfo=datetime.timezone.utc), 'archive_status': None, 'encryption_key_sha256': None, 'encryption_scope': None, 'request_server_encrypted': None, 'object_replication_source_properties': [], 'object_replication_destination_policy': None, 'last_accessed_on': None, 'tag_count': None, 'tags': None, 'immutability_policy': {'expiry_time': None, 'policy_mode': None}, 'has_legal_hold': None, 'has_versions_only': None},\n",
       " {'name': 'Historical Data/Test Palabras clave % js.csv', 'container': 'datos-auctioninsights', 'snapshot': None, 'version_id': None, 'is_current_version': None, 'blob_type': <BlobType.BLOCKBLOB: 'BlockBlob'>, 'metadata': {}, 'encrypted_metadata': None, 'last_modified': datetime.datetime(2022, 11, 8, 12, 55, 7, tzinfo=datetime.timezone.utc), 'etag': '0x8DAC188769F9A72', 'size': 7997199, 'content_range': None, 'append_blob_committed_block_count': None, 'is_append_blob_sealed': None, 'page_blob_sequence_number': None, 'server_encrypted': True, 'copy': {'id': None, 'source': None, 'status': None, 'progress': None, 'completion_time': None, 'status_description': None, 'incremental_copy': None, 'destination_snapshot': None}, 'content_settings': {'content_type': 'text/csv', 'content_encoding': None, 'content_language': None, 'content_md5': bytearray(b'\\xb1^k]\\xd85\\xd4\\x82\\xf3\\xca.\\xea6\\xcag\\x84'), 'content_disposition': None, 'cache_control': None}, 'lease': {'status': 'unlocked', 'state': 'available', 'duration': None}, 'blob_tier': None, 'rehydrate_priority': None, 'blob_tier_change_time': None, 'blob_tier_inferred': None, 'deleted': None, 'deleted_time': None, 'remaining_retention_days': None, 'creation_time': datetime.datetime(2022, 11, 8, 12, 55, 7, tzinfo=datetime.timezone.utc), 'archive_status': None, 'encryption_key_sha256': None, 'encryption_scope': None, 'request_server_encrypted': None, 'object_replication_source_properties': [], 'object_replication_destination_policy': None, 'last_accessed_on': None, 'tag_count': None, 'tags': None, 'immutability_policy': {'expiry_time': None, 'policy_mode': None}, 'has_legal_hold': None, 'has_versions_only': None},\n",
       " {'name': 'Historical Data/Test impresiones js (1).csv', 'container': 'datos-auctioninsights', 'snapshot': None, 'version_id': None, 'is_current_version': None, 'blob_type': <BlobType.BLOCKBLOB: 'BlockBlob'>, 'metadata': {}, 'encrypted_metadata': None, 'last_modified': datetime.datetime(2022, 11, 8, 12, 58, 58, tzinfo=datetime.timezone.utc), 'etag': '0x8DAC1890078DB31', 'size': 2800080, 'content_range': None, 'append_blob_committed_block_count': None, 'is_append_blob_sealed': None, 'page_blob_sequence_number': None, 'server_encrypted': True, 'copy': {'id': None, 'source': None, 'status': None, 'progress': None, 'completion_time': None, 'status_description': None, 'incremental_copy': None, 'destination_snapshot': None}, 'content_settings': {'content_type': 'text/csv', 'content_encoding': None, 'content_language': None, 'content_md5': bytearray(b'\\xaa\\x8f\\xcckL_\\xa9;T\\xc7\\xff02\\xa4\\xdc\"'), 'content_disposition': None, 'cache_control': None}, 'lease': {'status': 'unlocked', 'state': 'available', 'duration': None}, 'blob_tier': None, 'rehydrate_priority': None, 'blob_tier_change_time': None, 'blob_tier_inferred': None, 'deleted': None, 'deleted_time': None, 'remaining_retention_days': None, 'creation_time': datetime.datetime(2022, 11, 8, 12, 58, 58, tzinfo=datetime.timezone.utc), 'archive_status': None, 'encryption_key_sha256': None, 'encryption_scope': None, 'request_server_encrypted': None, 'object_replication_source_properties': [], 'object_replication_destination_policy': None, 'last_accessed_on': None, 'tag_count': None, 'tags': None, 'immutability_policy': {'expiry_time': None, 'policy_mode': None}, 'has_legal_hold': None, 'has_versions_only': None},\n",
       " {'name': 'Historical Data/Test impresiones js.csv', 'container': 'datos-auctioninsights', 'snapshot': None, 'version_id': None, 'is_current_version': None, 'blob_type': <BlobType.BLOCKBLOB: 'BlockBlob'>, 'metadata': {}, 'encrypted_metadata': None, 'last_modified': datetime.datetime(2022, 11, 8, 12, 58, 41, tzinfo=datetime.timezone.utc), 'etag': '0x8DAC188F62171F5', 'size': 2047542, 'content_range': None, 'append_blob_committed_block_count': None, 'is_append_blob_sealed': None, 'page_blob_sequence_number': None, 'server_encrypted': True, 'copy': {'id': None, 'source': None, 'status': None, 'progress': None, 'completion_time': None, 'status_description': None, 'incremental_copy': None, 'destination_snapshot': None}, 'content_settings': {'content_type': 'text/csv', 'content_encoding': None, 'content_language': None, 'content_md5': bytearray(b'&\\x8e\\xd1\"\\xa4{\\xff\\x0f\\xa8r\\xb4\\xf9\\x8b\\x99G\\xb9'), 'content_disposition': None, 'cache_control': None}, 'lease': {'status': 'unlocked', 'state': 'available', 'duration': None}, 'blob_tier': None, 'rehydrate_priority': None, 'blob_tier_change_time': None, 'blob_tier_inferred': None, 'deleted': None, 'deleted_time': None, 'remaining_retention_days': None, 'creation_time': datetime.datetime(2022, 11, 8, 12, 58, 41, tzinfo=datetime.timezone.utc), 'archive_status': None, 'encryption_key_sha256': None, 'encryption_scope': None, 'request_server_encrypted': None, 'object_replication_source_properties': [], 'object_replication_destination_policy': None, 'last_accessed_on': None, 'tag_count': None, 'tags': None, 'immutability_policy': {'expiry_time': None, 'policy_mode': None}, 'has_legal_hold': None, 'has_versions_only': None}]"
      ]
     },
     "execution_count": 12,
     "metadata": {},
     "output_type": "execute_result"
    }
   ],
   "source": [
    "container_name = \"datos-auctioninsights\"\n",
    "\n",
    "container_client = blob_service_client.get_container_client(container=container_name)\n",
    "\n",
    "list(container_client.list_blobs())"
   ]
  },
  {
   "cell_type": "code",
   "execution_count": 13,
   "metadata": {},
   "outputs": [],
   "source": [
    "keywords_blobs = \"Historical Data/PalabrasClave\"\n",
    "impressions_blobs = \"Historical Data/Impresiones\"\n",
    "\n",
    "keyword_blob_to_process = container_client.walk_blobs(\n",
    "    name_starts_with=keywords_blobs\n",
    ").next()\n",
    "for b in container_client.walk_blobs(name_starts_with=keywords_blobs):\n",
    "    if b.creation_time > keyword_blob_to_process.creation_time:\n",
    "        keyword_blob_to_process = b\n",
    "\n",
    "impressions_blob_to_process = container_client.walk_blobs(\n",
    "    name_starts_with=impressions_blobs\n",
    ").next()\n",
    "for b in container_client.walk_blobs(name_starts_with=impressions_blobs):\n",
    "    if b.creation_time > impressions_blob_to_process.creation_time:\n",
    "        impressions_blob_to_process = b"
   ]
  },
  {
   "cell_type": "code",
   "execution_count": 27,
   "metadata": {},
   "outputs": [
    {
     "data": {
      "text/plain": [
       "('Historical Data/Impresiones_MX.csv', 'Historical Data/PalabrasClave_MX.csv')"
      ]
     },
     "execution_count": 27,
     "metadata": {},
     "output_type": "execute_result"
    }
   ],
   "source": [
    "impressions_blob_to_process[\"name\"], keyword_blob_to_process[\"name\"]"
   ]
  },
  {
   "cell_type": "code",
   "execution_count": 28,
   "metadata": {},
   "outputs": [],
   "source": [
    "blob_client = blob_service_client.get_blob_client(\n",
    "    container=container_name, blob=keyword_blob_to_process\n",
    ")\n",
    "content = blob_client.download_blob().content_as_text()"
   ]
  },
  {
   "cell_type": "code",
   "execution_count": 29,
   "metadata": {},
   "outputs": [],
   "source": [
    "keywords_df = pd.read_csv(io.StringIO(content))"
   ]
  },
  {
   "cell_type": "code",
   "execution_count": 30,
   "metadata": {},
   "outputs": [],
   "source": [
    "# saving is optional\n",
    "keywords_df.to_csv(\"../data/etl/keywords.csv\", index=False)"
   ]
  },
  {
   "cell_type": "code",
   "execution_count": 31,
   "metadata": {},
   "outputs": [
    {
     "data": {
      "text/plain": [
       "Index(['Month', 'Account name', 'Customer ID', 'Campaign', 'Campaign ID',\n",
       "       'Ad group', 'Ad group ID', 'Search keyword', 'Keyword ID',\n",
       "       'Display URL domain', 'Search Impr. share (Auction Insights)',\n",
       "       'Search overlap rate', 'Position above rate', 'Top of page rate',\n",
       "       'Abs. Top of page rate', 'Search outranking share'],\n",
       "      dtype='object')"
      ]
     },
     "execution_count": 31,
     "metadata": {},
     "output_type": "execute_result"
    }
   ],
   "source": [
    "keywords_df.columns"
   ]
  },
  {
   "cell_type": "code",
   "execution_count": 32,
   "metadata": {},
   "outputs": [
    {
     "data": {
      "text/plain": [
       "(81183, 16)"
      ]
     },
     "execution_count": 32,
     "metadata": {},
     "output_type": "execute_result"
    }
   ],
   "source": [
    "keywords_df.shape"
   ]
  },
  {
   "cell_type": "code",
   "execution_count": 33,
   "metadata": {},
   "outputs": [
    {
     "data": {
      "text/html": [
       "<div>\n",
       "<style scoped>\n",
       "    .dataframe tbody tr th:only-of-type {\n",
       "        vertical-align: middle;\n",
       "    }\n",
       "\n",
       "    .dataframe tbody tr th {\n",
       "        vertical-align: top;\n",
       "    }\n",
       "\n",
       "    .dataframe thead th {\n",
       "        text-align: right;\n",
       "    }\n",
       "</style>\n",
       "<table border=\"1\" class=\"dataframe\">\n",
       "  <thead>\n",
       "    <tr style=\"text-align: right;\">\n",
       "      <th></th>\n",
       "      <th>Month</th>\n",
       "      <th>Account name</th>\n",
       "      <th>Customer ID</th>\n",
       "      <th>Campaign</th>\n",
       "      <th>Campaign ID</th>\n",
       "      <th>Ad group</th>\n",
       "      <th>Ad group ID</th>\n",
       "      <th>Search keyword</th>\n",
       "      <th>Keyword ID</th>\n",
       "      <th>Display URL domain</th>\n",
       "      <th>Search Impr. share (Auction Insights)</th>\n",
       "      <th>Search overlap rate</th>\n",
       "      <th>Position above rate</th>\n",
       "      <th>Top of page rate</th>\n",
       "      <th>Abs. Top of page rate</th>\n",
       "      <th>Search outranking share</th>\n",
       "    </tr>\n",
       "  </thead>\n",
       "  <tbody>\n",
       "    <tr>\n",
       "      <th>0</th>\n",
       "      <td>March 2023</td>\n",
       "      <td>AN~Bimbo_PR~Coronado_AV~FB_MK~MX_AR~STA</td>\n",
       "      <td>607-473-2610</td>\n",
       "      <td>031911/2023 - 000_Marzo_Ricolino_Untables_Coro...</td>\n",
       "      <td>16249142822</td>\n",
       "      <td>CORONADO - RECETAS</td>\n",
       "      <td>136169411889</td>\n",
       "      <td>ingredientes cajeta coronado</td>\n",
       "      <td>1393455534473</td>\n",
       "      <td>You</td>\n",
       "      <td>64.29%</td>\n",
       "      <td>--</td>\n",
       "      <td>--</td>\n",
       "      <td>100.00%</td>\n",
       "      <td>100.00%</td>\n",
       "      <td>--</td>\n",
       "    </tr>\n",
       "    <tr>\n",
       "      <th>1</th>\n",
       "      <td>February 2023</td>\n",
       "      <td>AN~Bimbo_PR~Coronado_AV~FB_MK~MX_AR~STA</td>\n",
       "      <td>607-473-2610</td>\n",
       "      <td>031911/2023 - 000_Marzo_Ricolino_Untables_Coro...</td>\n",
       "      <td>16249142822</td>\n",
       "      <td>CORONADO - COMPETENCIA</td>\n",
       "      <td>136169411729</td>\n",
       "      <td>nutella</td>\n",
       "      <td>19556113</td>\n",
       "      <td>amazon.com.mx</td>\n",
       "      <td>12.82%</td>\n",
       "      <td>39.05%</td>\n",
       "      <td>12.46%</td>\n",
       "      <td>93.14%</td>\n",
       "      <td>47.36%</td>\n",
       "      <td>11.91%</td>\n",
       "    </tr>\n",
       "    <tr>\n",
       "      <th>2</th>\n",
       "      <td>April 2023</td>\n",
       "      <td>AN~Bimbo_PR~Coronado_AV~FB_MK~MX_AR~STA</td>\n",
       "      <td>607-473-2610</td>\n",
       "      <td>031911/2023 - 000_Marzo_Ricolino_Untables_Coro...</td>\n",
       "      <td>16249142822</td>\n",
       "      <td>CORONADO - COMPETENCIA</td>\n",
       "      <td>136169411729</td>\n",
       "      <td>cajeta tillot</td>\n",
       "      <td>1393455534153</td>\n",
       "      <td>You</td>\n",
       "      <td>22.68%</td>\n",
       "      <td>--</td>\n",
       "      <td>--</td>\n",
       "      <td>90.10%</td>\n",
       "      <td>70.63%</td>\n",
       "      <td>--</td>\n",
       "    </tr>\n",
       "    <tr>\n",
       "      <th>3</th>\n",
       "      <td>April 2023</td>\n",
       "      <td>AN~Abbott_PR~SEM-Glucerna_AV~HM_MK~MX_AR~SPRK</td>\n",
       "      <td>333-992-4476</td>\n",
       "      <td>010388/2022_Glucerna E-commerce</td>\n",
       "      <td>10165198298</td>\n",
       "      <td>Bebible</td>\n",
       "      <td>148076042307</td>\n",
       "      <td>glucerna 237 ml</td>\n",
       "      <td>385743183801</td>\n",
       "      <td>You</td>\n",
       "      <td>47.97%</td>\n",
       "      <td>--</td>\n",
       "      <td>--</td>\n",
       "      <td>87.32%</td>\n",
       "      <td>78.87%</td>\n",
       "      <td>--</td>\n",
       "    </tr>\n",
       "    <tr>\n",
       "      <th>4</th>\n",
       "      <td>January 2023</td>\n",
       "      <td>AN~Abbott_PR~SEM-Glucerna_AV~HM_MK~MX_AR~SPRK</td>\n",
       "      <td>333-992-4476</td>\n",
       "      <td>010388/2022_Glucerna E-commerce</td>\n",
       "      <td>10165198298</td>\n",
       "      <td>Bebible</td>\n",
       "      <td>148076042307</td>\n",
       "      <td>glucerna bebible precio</td>\n",
       "      <td>1672684181430</td>\n",
       "      <td>amazon.com.mx</td>\n",
       "      <td>100.00%</td>\n",
       "      <td>100.00%</td>\n",
       "      <td>0.00%</td>\n",
       "      <td>87.50%</td>\n",
       "      <td>25.00%</td>\n",
       "      <td>75.00%</td>\n",
       "    </tr>\n",
       "  </tbody>\n",
       "</table>\n",
       "</div>"
      ],
      "text/plain": [
       "           Month                                   Account name   Customer ID   \n",
       "0     March 2023        AN~Bimbo_PR~Coronado_AV~FB_MK~MX_AR~STA  607-473-2610  \\\n",
       "1  February 2023        AN~Bimbo_PR~Coronado_AV~FB_MK~MX_AR~STA  607-473-2610   \n",
       "2     April 2023        AN~Bimbo_PR~Coronado_AV~FB_MK~MX_AR~STA  607-473-2610   \n",
       "3     April 2023  AN~Abbott_PR~SEM-Glucerna_AV~HM_MK~MX_AR~SPRK  333-992-4476   \n",
       "4   January 2023  AN~Abbott_PR~SEM-Glucerna_AV~HM_MK~MX_AR~SPRK  333-992-4476   \n",
       "\n",
       "                                            Campaign  Campaign ID   \n",
       "0  031911/2023 - 000_Marzo_Ricolino_Untables_Coro...  16249142822  \\\n",
       "1  031911/2023 - 000_Marzo_Ricolino_Untables_Coro...  16249142822   \n",
       "2  031911/2023 - 000_Marzo_Ricolino_Untables_Coro...  16249142822   \n",
       "3                    010388/2022_Glucerna E-commerce  10165198298   \n",
       "4                    010388/2022_Glucerna E-commerce  10165198298   \n",
       "\n",
       "                 Ad group   Ad group ID                Search keyword   \n",
       "0      CORONADO - RECETAS  136169411889  ingredientes cajeta coronado  \\\n",
       "1  CORONADO - COMPETENCIA  136169411729                       nutella   \n",
       "2  CORONADO - COMPETENCIA  136169411729                 cajeta tillot   \n",
       "3                 Bebible  148076042307               glucerna 237 ml   \n",
       "4                 Bebible  148076042307       glucerna bebible precio   \n",
       "\n",
       "      Keyword ID Display URL domain Search Impr. share (Auction Insights)   \n",
       "0  1393455534473                You                                64.29%  \\\n",
       "1       19556113      amazon.com.mx                                12.82%   \n",
       "2  1393455534153                You                                22.68%   \n",
       "3   385743183801                You                                47.97%   \n",
       "4  1672684181430      amazon.com.mx                               100.00%   \n",
       "\n",
       "  Search overlap rate Position above rate Top of page rate   \n",
       "0                  --                  --          100.00%  \\\n",
       "1              39.05%              12.46%           93.14%   \n",
       "2                  --                  --           90.10%   \n",
       "3                  --                  --           87.32%   \n",
       "4             100.00%               0.00%           87.50%   \n",
       "\n",
       "  Abs. Top of page rate Search outranking share  \n",
       "0               100.00%                      --  \n",
       "1                47.36%                  11.91%  \n",
       "2                70.63%                      --  \n",
       "3                78.87%                      --  \n",
       "4                25.00%                  75.00%  "
      ]
     },
     "execution_count": 33,
     "metadata": {},
     "output_type": "execute_result"
    }
   ],
   "source": [
    "keywords_df.head()"
   ]
  },
  {
   "cell_type": "code",
   "execution_count": 34,
   "metadata": {},
   "outputs": [
    {
     "data": {
      "text/plain": [
       "8429"
      ]
     },
     "execution_count": 34,
     "metadata": {},
     "output_type": "execute_result"
    }
   ],
   "source": [
    "keywords_df[\"Keyword ID\"].nunique()"
   ]
  },
  {
   "cell_type": "code",
   "execution_count": 35,
   "metadata": {},
   "outputs": [],
   "source": [
    "blob_client = blob_service_client.get_blob_client(\n",
    "    container=container_name, blob=impressions_blob_to_process\n",
    ")\n",
    "imp_content = blob_client.download_blob().content_as_text()"
   ]
  },
  {
   "cell_type": "code",
   "execution_count": 36,
   "metadata": {},
   "outputs": [],
   "source": [
    "impressions_df = pd.read_csv(io.StringIO(imp_content))"
   ]
  },
  {
   "cell_type": "code",
   "execution_count": 37,
   "metadata": {},
   "outputs": [],
   "source": [
    "impressions_df.to_csv(\"../data/etl/impressions.csv\", index=False)"
   ]
  },
  {
   "cell_type": "code",
   "execution_count": 38,
   "metadata": {},
   "outputs": [
    {
     "data": {
      "text/plain": [
       "Index(['Month', 'Account name', 'Customer ID', 'Campaign', 'Campaign ID',\n",
       "       'Ad group', 'Ad group ID', 'Search keyword', 'Keyword ID', 'Impr.'],\n",
       "      dtype='object')"
      ]
     },
     "execution_count": 38,
     "metadata": {},
     "output_type": "execute_result"
    }
   ],
   "source": [
    "impressions_df.columns"
   ]
  },
  {
   "cell_type": "code",
   "execution_count": 39,
   "metadata": {},
   "outputs": [
    {
     "data": {
      "text/plain": [
       "(31193, 10)"
      ]
     },
     "execution_count": 39,
     "metadata": {},
     "output_type": "execute_result"
    }
   ],
   "source": [
    "impressions_df.shape"
   ]
  },
  {
   "cell_type": "code",
   "execution_count": 40,
   "metadata": {},
   "outputs": [
    {
     "data": {
      "text/html": [
       "<div>\n",
       "<style scoped>\n",
       "    .dataframe tbody tr th:only-of-type {\n",
       "        vertical-align: middle;\n",
       "    }\n",
       "\n",
       "    .dataframe tbody tr th {\n",
       "        vertical-align: top;\n",
       "    }\n",
       "\n",
       "    .dataframe thead th {\n",
       "        text-align: right;\n",
       "    }\n",
       "</style>\n",
       "<table border=\"1\" class=\"dataframe\">\n",
       "  <thead>\n",
       "    <tr style=\"text-align: right;\">\n",
       "      <th></th>\n",
       "      <th>Month</th>\n",
       "      <th>Account name</th>\n",
       "      <th>Customer ID</th>\n",
       "      <th>Campaign</th>\n",
       "      <th>Campaign ID</th>\n",
       "      <th>Ad group</th>\n",
       "      <th>Ad group ID</th>\n",
       "      <th>Search keyword</th>\n",
       "      <th>Keyword ID</th>\n",
       "      <th>Impr.</th>\n",
       "    </tr>\n",
       "  </thead>\n",
       "  <tbody>\n",
       "    <tr>\n",
       "      <th>0</th>\n",
       "      <td>March 2023</td>\n",
       "      <td>AN~Bimbo_PR~Coronado_AV~FB_MK~MX_AR~STA</td>\n",
       "      <td>607-473-2610</td>\n",
       "      <td>031911/2023 - 000_Marzo_Ricolino_Untables_Coro...</td>\n",
       "      <td>16249136333</td>\n",
       "      <td>RECETAS</td>\n",
       "      <td>128609968930</td>\n",
       "      <td>postres con leche condensada</td>\n",
       "      <td>304019792612</td>\n",
       "      <td>400</td>\n",
       "    </tr>\n",
       "    <tr>\n",
       "      <th>1</th>\n",
       "      <td>March 2023</td>\n",
       "      <td>AN~Bimbo_PR~Coronado_AV~FB_MK~MX_AR~STA</td>\n",
       "      <td>607-473-2610</td>\n",
       "      <td>031911/2023 - 000_Marzo_Ricolino_Untables_Coro...</td>\n",
       "      <td>16249136333</td>\n",
       "      <td>RECETAS</td>\n",
       "      <td>128609968930</td>\n",
       "      <td>recetas rapidas</td>\n",
       "      <td>141469255</td>\n",
       "      <td>6,285</td>\n",
       "    </tr>\n",
       "    <tr>\n",
       "      <th>2</th>\n",
       "      <td>April 2023</td>\n",
       "      <td>AN~Bimbo_PR~Coronado_AV~FB_MK~MX_AR~STA</td>\n",
       "      <td>607-473-2610</td>\n",
       "      <td>031911/2023 - 000_Marzo_Ricolino_Untables_Coro...</td>\n",
       "      <td>16249136333</td>\n",
       "      <td>RECETAS</td>\n",
       "      <td>128609968930</td>\n",
       "      <td>ideas para postres</td>\n",
       "      <td>385359267764</td>\n",
       "      <td>1,958</td>\n",
       "    </tr>\n",
       "    <tr>\n",
       "      <th>3</th>\n",
       "      <td>March 2023</td>\n",
       "      <td>AN~Bimbo_PR~Coronado_AV~FB_MK~MX_AR~STA</td>\n",
       "      <td>607-473-2610</td>\n",
       "      <td>031911/2023 - 000_Marzo_Ricolino_Untables_Coro...</td>\n",
       "      <td>16249136333</td>\n",
       "      <td>RECETAS</td>\n",
       "      <td>128609968930</td>\n",
       "      <td>recetas de dulces fáciles de hacer en casa</td>\n",
       "      <td>1131278898409</td>\n",
       "      <td>32</td>\n",
       "    </tr>\n",
       "    <tr>\n",
       "      <th>4</th>\n",
       "      <td>April 2023</td>\n",
       "      <td>AN~Bimbo_PR~Coronado_AV~FB_MK~MX_AR~STA</td>\n",
       "      <td>607-473-2610</td>\n",
       "      <td>031911/2023 - 000_Marzo_Ricolino_Untables_Coro...</td>\n",
       "      <td>16249136333</td>\n",
       "      <td>POSTRES</td>\n",
       "      <td>128609969010</td>\n",
       "      <td>receta de pastel de tres leches</td>\n",
       "      <td>1972863163</td>\n",
       "      <td>2,144</td>\n",
       "    </tr>\n",
       "  </tbody>\n",
       "</table>\n",
       "</div>"
      ],
      "text/plain": [
       "        Month                             Account name   Customer ID   \n",
       "0  March 2023  AN~Bimbo_PR~Coronado_AV~FB_MK~MX_AR~STA  607-473-2610  \\\n",
       "1  March 2023  AN~Bimbo_PR~Coronado_AV~FB_MK~MX_AR~STA  607-473-2610   \n",
       "2  April 2023  AN~Bimbo_PR~Coronado_AV~FB_MK~MX_AR~STA  607-473-2610   \n",
       "3  March 2023  AN~Bimbo_PR~Coronado_AV~FB_MK~MX_AR~STA  607-473-2610   \n",
       "4  April 2023  AN~Bimbo_PR~Coronado_AV~FB_MK~MX_AR~STA  607-473-2610   \n",
       "\n",
       "                                            Campaign  Campaign ID Ad group   \n",
       "0  031911/2023 - 000_Marzo_Ricolino_Untables_Coro...  16249136333  RECETAS  \\\n",
       "1  031911/2023 - 000_Marzo_Ricolino_Untables_Coro...  16249136333  RECETAS   \n",
       "2  031911/2023 - 000_Marzo_Ricolino_Untables_Coro...  16249136333  RECETAS   \n",
       "3  031911/2023 - 000_Marzo_Ricolino_Untables_Coro...  16249136333  RECETAS   \n",
       "4  031911/2023 - 000_Marzo_Ricolino_Untables_Coro...  16249136333  POSTRES   \n",
       "\n",
       "    Ad group ID                              Search keyword     Keyword ID   \n",
       "0  128609968930                postres con leche condensada   304019792612  \\\n",
       "1  128609968930                             recetas rapidas      141469255   \n",
       "2  128609968930                          ideas para postres   385359267764   \n",
       "3  128609968930  recetas de dulces fáciles de hacer en casa  1131278898409   \n",
       "4  128609969010             receta de pastel de tres leches     1972863163   \n",
       "\n",
       "   Impr.  \n",
       "0    400  \n",
       "1  6,285  \n",
       "2  1,958  \n",
       "3     32  \n",
       "4  2,144  "
      ]
     },
     "execution_count": 40,
     "metadata": {},
     "output_type": "execute_result"
    }
   ],
   "source": [
    "impressions_df.head()"
   ]
  },
  {
   "cell_type": "code",
   "execution_count": 41,
   "metadata": {},
   "outputs": [
    {
     "data": {
      "text/plain": [
       "12024"
      ]
     },
     "execution_count": 41,
     "metadata": {},
     "output_type": "execute_result"
    }
   ],
   "source": [
    "impressions_df[\"Keyword ID\"].nunique()"
   ]
  },
  {
   "attachments": {},
   "cell_type": "markdown",
   "metadata": {},
   "source": [
    "## Transform\n"
   ]
  },
  {
   "cell_type": "code",
   "execution_count": 42,
   "metadata": {},
   "outputs": [],
   "source": [
    "merged_df = keywords_df.merge(\n",
    "    impressions_df[[\"Ad group ID\", \"Keyword ID\", \"Impr.\"]],\n",
    "    left_on=[\"Ad group ID\", \"Keyword ID\"],\n",
    "    right_on=[\"Ad group ID\", \"Keyword ID\"],\n",
    ")"
   ]
  },
  {
   "cell_type": "code",
   "execution_count": 115,
   "metadata": {},
   "outputs": [],
   "source": [
    "# accounts table\n",
    "accounts = merged_df[[\"Account name\", \"Customer ID\"]].drop_duplicates()\n",
    "# campaigns table\n",
    "campaigns = merged_df[[\"Campaign\", \"Campaign ID\"]].drop_duplicates()\n",
    "# adgroup table\n",
    "adgroups = merged_df[[\"Ad group\", \"Ad group ID\"]].drop_duplicates()\n",
    "# keywords table\n",
    "keywords = merged_df[[\"Search keyword\", \"Keyword ID\"]].drop_duplicates()"
   ]
  },
  {
   "cell_type": "code",
   "execution_count": 116,
   "metadata": {},
   "outputs": [],
   "source": [
    "merged_df.columns\n",
    "cols = [\n",
    "    \"Month\",\n",
    "    \"Customer ID\",\n",
    "    \"Campaign ID\",\n",
    "    \"Ad group ID\",\n",
    "    \"Keyword ID\",\n",
    "    \"Display URL domain\",\n",
    "    \"Search Impr. share (Auction Insights)\",\n",
    "    \"Search overlap rate\",\n",
    "    \"Position above rate\",\n",
    "    \"Top of page rate\",\n",
    "    \"Abs. Top of page rate\",\n",
    "    \"Search outranking share\",\n",
    "    \"Impr.\",\n",
    "]\n",
    "\n",
    "metrics = merged_df[cols]"
   ]
  },
  {
   "cell_type": "code",
   "execution_count": 117,
   "metadata": {},
   "outputs": [],
   "source": [
    "# column renaming for convention\n",
    "def normalize_column_names(data):\n",
    "    cols = data.columns.to_list()\n",
    "\n",
    "    data.columns = [\"_\".join(c.lower().replace(\".\", \"\").split(\" \")) for c in cols]\n",
    "    return data\n",
    "\n",
    "\n",
    "accounts = normalize_column_names(accounts)\n",
    "campaigns = normalize_column_names(campaigns)\n",
    "adgroups = normalize_column_names(adgroups)\n",
    "keywords = normalize_column_names(keywords)\n",
    "metrics = normalize_column_names(metrics)"
   ]
  },
  {
   "cell_type": "code",
   "execution_count": 229,
   "metadata": {},
   "outputs": [],
   "source": [
    "def transform_accounts(accounts):\n",
    "    accounts = accounts.rename(columns={\"customer_id\": \"account_id\"})\n",
    "    accounts[\"account_id\"] = accounts.account_id.astype(str).str.replace(\"-\", \"\")\n",
    "    accounts[\"account_id\"] = accounts[\"account_id\"].astype(pd.Int64Dtype())\n",
    "    return accounts\n",
    "\n",
    "\n",
    "def transform_campaigns(campaigns):\n",
    "    campaigns = campaigns.rename(columns={\"campaign\": \"campaign_name\"})\n",
    "    campaigns[\"campaign_id\"] = campaigns[\"campaign_id\"].astype(pd.Int64Dtype())\n",
    "    return campaigns\n",
    "\n",
    "\n",
    "def transform_adgroups(adgroups):\n",
    "    adgroups = adgroups.rename(columns={\"ad_group\": \"ad_group_name\"})\n",
    "    adgroups[\"ad_group_id\"] = adgroups[\"ad_group_id\"].astype(pd.Int64Dtype())\n",
    "    return adgroups\n",
    "\n",
    "\n",
    "def transform_keywords(keywords):\n",
    "    keywords = keywords.rename(columns={\"search_keyword\": \"keyword_name\"})\n",
    "    keywords[\"keyword_id\"] = keywords[\"keyword_id\"].astype(pd.Int64Dtype())\n",
    "    return keywords\n",
    "\n",
    "\n",
    "def _convert_metrics_date(metrics):\n",
    "    metrics.loc[:, \"month\"] = metrics.loc[:, \"month\"].str.lower()\n",
    "\n",
    "    month_names = {\n",
    "        \"january\": 1,\n",
    "        \"february\": 2,\n",
    "        \"march\": 3,\n",
    "        \"april\": 4,\n",
    "        \"may\": 5,\n",
    "        \"june\": 6,\n",
    "        \"july\": 7,\n",
    "        \"august\": 8,\n",
    "        \"september\": 9,\n",
    "        \"october\": 10,\n",
    "        \"november\": 11,\n",
    "        \"december\": 12,\n",
    "    }\n",
    "    metrics.loc[:, \"_month\"] = (\n",
    "        metrics.loc[:, \"month\"]\n",
    "        .str.split(\" \", expand=True)\n",
    "        .drop(columns=[1])[0]\n",
    "        .map(month_names)\n",
    "    )\n",
    "    metrics.loc[:, \"_year\"] = (\n",
    "        metrics.loc[:, \"month\"].str.split(\" \", expand=True).drop(columns=[0])[1]\n",
    "    )\n",
    "    metrics.loc[:, \"date\"] = pd.to_datetime(\n",
    "        metrics.loc[:, \"_year\"].astype(str)\n",
    "        + \"-\"\n",
    "        + metrics.loc[:, \"_month\"].astype(str)\n",
    "        + \"-\"\n",
    "        + \"1\"\n",
    "    )\n",
    "    metrics = metrics.drop(columns=[\"_month\", \"_year\"])\n",
    "\n",
    "    return metrics\n",
    "\n",
    "\n",
    "def _convert_percentage_metric_to_float(metric):\n",
    "    return (\n",
    "        float(str(metric).replace(\"<\", \"\").replace(\"%\", \"\").replace(\"--\", \"0\").strip())\n",
    "        / 100\n",
    "    )\n",
    "\n",
    "\n",
    "def _convert_int_metric(metric):\n",
    "    return int(str(metric).replace(\",\", \"\").replace(\"--\", \"0\").strip())\n",
    "\n",
    "\n",
    "def transform_metrics(metrics):\n",
    "    metrics = _convert_metrics_date(metrics)\n",
    "\n",
    "    metrics = metrics.rename(\n",
    "        columns={\"search_impr_share_(auction_insights)\": \"search_impr_share\"}\n",
    "    )\n",
    "\n",
    "    metrics.loc[:, \"search_impr_share\"] = (\n",
    "        metrics.loc[:, \"search_impr_share\"]\n",
    "        .apply(lambda x: _convert_percentage_metric_to_float(x))\n",
    "        .astype(float)\n",
    "    )\n",
    "    metrics.loc[:, \"search_overlap_rate\"] = (\n",
    "        metrics.loc[:, \"search_overlap_rate\"]\n",
    "        .apply(lambda x: _convert_percentage_metric_to_float(x))\n",
    "        .astype(float)\n",
    "    )\n",
    "    metrics.loc[:, \"position_above_rate\"] = (\n",
    "        metrics.loc[:, \"position_above_rate\"]\n",
    "        .apply(lambda x: _convert_percentage_metric_to_float(x))\n",
    "        .astype(float)\n",
    "    )\n",
    "    metrics.loc[:, \"top_of_page_rate\"] = (\n",
    "        metrics.loc[:, \"top_of_page_rate\"]\n",
    "        .apply(lambda x: _convert_percentage_metric_to_float(x))\n",
    "        .astype(float)\n",
    "    )\n",
    "    metrics.loc[:, \"abs_top_of_page_rate\"] = (\n",
    "        metrics.loc[:, \"abs_top_of_page_rate\"]\n",
    "        .apply(lambda x: _convert_percentage_metric_to_float(x))\n",
    "        .astype(float)\n",
    "    )\n",
    "    metrics.loc[:, \"search_outranking_share\"] = (\n",
    "        metrics.loc[:, \"search_outranking_share\"]\n",
    "        .apply(lambda x: _convert_percentage_metric_to_float(x))\n",
    "        .astype(float)\n",
    "    )\n",
    "    metrics.loc[:, \"impr\"] = (\n",
    "        metrics.loc[:, \"impr\"].apply(lambda x: _convert_int_metric(x)).astype(int)\n",
    "    )\n",
    "    return metrics\n",
    "\n",
    "\n",
    "accounts = transform_accounts(accounts)\n",
    "campaigns = transform_campaigns(campaigns)\n",
    "adgroups = transform_adgroups(adgroups)\n",
    "keywords = transform_keywords(keywords)\n",
    "metrics = transform_metrics(metrics)"
   ]
  },
  {
   "cell_type": "code",
   "execution_count": 230,
   "metadata": {},
   "outputs": [
    {
     "data": {
      "text/plain": [
       "account_name    object\n",
       "account_id       Int64\n",
       "dtype: object"
      ]
     },
     "execution_count": 230,
     "metadata": {},
     "output_type": "execute_result"
    }
   ],
   "source": [
    "accounts.dtypes"
   ]
  },
  {
   "attachments": {},
   "cell_type": "markdown",
   "metadata": {},
   "source": [
    "## Load\n"
   ]
  },
  {
   "attachments": {},
   "cell_type": "markdown",
   "metadata": {},
   "source": [
    "### Create DB Schema (if not exists)\n"
   ]
  },
  {
   "cell_type": "code",
   "execution_count": 241,
   "metadata": {},
   "outputs": [],
   "source": [
    "from sqlalchemy import MetaData, PrimaryKeyConstraint\n",
    "from sqlalchemy import (\n",
    "    Table,\n",
    "    Column,\n",
    "    Integer,\n",
    "    String,\n",
    "    ForeignKey,\n",
    "    BigInteger,\n",
    "    DateTime,\n",
    "    Float,\n",
    ")\n",
    "from sqlalchemy.engine import create_engine\n",
    "\n",
    "\n",
    "engine = create_engine(\"sqlite:///:memory:\")\n",
    "\n",
    "metadata_obj = MetaData()\n",
    "\n",
    "accounts_table = Table(\n",
    "    \"accounts\",\n",
    "    metadata_obj,\n",
    "    Column(\"account_id\", BigInteger, primary_key=True),\n",
    "    Column(\"account_name\", String(255), nullable=False),\n",
    ")\n",
    "campaigns_table = Table(\n",
    "    \"campaigns\",\n",
    "    metadata_obj,\n",
    "    Column(\"campaign_id\", BigInteger, primary_key=True),\n",
    "    Column(\"campaign_name\", String(255), nullable=False),\n",
    ")\n",
    "adgroups_table = Table(\n",
    "    \"adgroups\",\n",
    "    metadata_obj,\n",
    "    Column(\"ad_group_id\", BigInteger, primary_key=True),\n",
    "    Column(\"ad_group_name\", String(255), nullable=False),\n",
    ")\n",
    "keywords_table = Table(\n",
    "    \"keywords\",\n",
    "    metadata_obj,\n",
    "    Column(\"keyword_id\", BigInteger, primary_key=True),\n",
    "    Column(\"keyword_name\", String(255), nullable=False),\n",
    ")\n",
    "\n",
    "metrics_table = Table(\n",
    "    \"metrics\",\n",
    "    metadata_obj,\n",
    "    Column(\n",
    "        \"account_id\",\n",
    "        BigInteger,\n",
    "        ForeignKey(\"accounts.account_id\"),\n",
    "        nullable=False,\n",
    "        # primary_key=True,\n",
    "    ),\n",
    "    Column(\n",
    "        \"campaign_id\",\n",
    "        BigInteger,\n",
    "        ForeignKey(\"campaigns.campaign_id\"),\n",
    "        nullable=False,\n",
    "        # primary_key=True,\n",
    "    ),\n",
    "    Column(\n",
    "        \"ad_group_id\",\n",
    "        BigInteger,\n",
    "        ForeignKey(\"adgroups.ad_group_id\"),\n",
    "        nullable=False,\n",
    "        # primary_key=True,\n",
    "    ),\n",
    "    Column(\n",
    "        \"keyword_id\",\n",
    "        BigInteger,\n",
    "        ForeignKey(\"keywords.keyword_id\"),\n",
    "        nullable=False,\n",
    "        # primary_key=True,\n",
    "    ),\n",
    "    Column(\"date\", DateTime),\n",
    "    Column(\"display_url_domain\", String(255)),\n",
    "    Column(\"search_impr_share\", Float),\n",
    "    Column(\"search_overlap_rate\", Float),\n",
    "    Column(\"position_above_rate\", Float),\n",
    "    Column(\"top_of_page_rate\", Float),\n",
    "    Column(\"abs_top_of_page_rate\", Float),\n",
    "    Column(\"search_outranking_share\", Float),\n",
    "    Column(\"impr\", Integer),\n",
    "    PrimaryKeyConstraint(\n",
    "        \"account_id\", \"campaign_id\", \"ad_group_id\", \"keyword_id\", \"date\", name=\"pk\"\n",
    "    ),\n",
    ")\n",
    "\n",
    "metadata_obj.create_all(engine)"
   ]
  },
  {
   "cell_type": "code",
   "execution_count": 242,
   "metadata": {},
   "outputs": [
    {
     "data": {
      "text/html": [
       "<div>\n",
       "<style scoped>\n",
       "    .dataframe tbody tr th:only-of-type {\n",
       "        vertical-align: middle;\n",
       "    }\n",
       "\n",
       "    .dataframe tbody tr th {\n",
       "        vertical-align: top;\n",
       "    }\n",
       "\n",
       "    .dataframe thead th {\n",
       "        text-align: right;\n",
       "    }\n",
       "</style>\n",
       "<table border=\"1\" class=\"dataframe\">\n",
       "  <thead>\n",
       "    <tr style=\"text-align: right;\">\n",
       "      <th></th>\n",
       "      <th>name</th>\n",
       "    </tr>\n",
       "  </thead>\n",
       "  <tbody>\n",
       "    <tr>\n",
       "      <th>0</th>\n",
       "      <td>accounts</td>\n",
       "    </tr>\n",
       "    <tr>\n",
       "      <th>1</th>\n",
       "      <td>campaigns</td>\n",
       "    </tr>\n",
       "    <tr>\n",
       "      <th>2</th>\n",
       "      <td>adgroups</td>\n",
       "    </tr>\n",
       "    <tr>\n",
       "      <th>3</th>\n",
       "      <td>keywords</td>\n",
       "    </tr>\n",
       "    <tr>\n",
       "      <th>4</th>\n",
       "      <td>metrics</td>\n",
       "    </tr>\n",
       "  </tbody>\n",
       "</table>\n",
       "</div>"
      ],
      "text/plain": [
       "        name\n",
       "0   accounts\n",
       "1  campaigns\n",
       "2   adgroups\n",
       "3   keywords\n",
       "4    metrics"
      ]
     },
     "execution_count": 242,
     "metadata": {},
     "output_type": "execute_result"
    }
   ],
   "source": [
    "# metadata_obj.tables\n",
    "import pandas as pd\n",
    "\n",
    "q = \"\"\"\n",
    "SELECT \n",
    "    name\n",
    "FROM \n",
    "    sqlite_schema\n",
    "WHERE \n",
    "    type ='table' AND \n",
    "    name NOT LIKE 'sqlite_%';\n",
    "\"\"\"\n",
    "\n",
    "tables = pd.read_sql(q, engine)\n",
    "tables"
   ]
  },
  {
   "cell_type": "code",
   "execution_count": 243,
   "metadata": {},
   "outputs": [
    {
     "name": "stdout",
     "output_type": "stream",
     "text": [
      "accounts ['account_id', 'account_name']\n",
      "campaigns ['campaign_id', 'campaign_name']\n",
      "adgroups ['ad_group_id', 'ad_group_name']\n",
      "keywords ['keyword_id', 'keyword_name']\n",
      "metrics ['account_id', 'campaign_id', 'ad_group_id', 'keyword_id', 'date', 'display_url_domain', 'search_impr_share', 'search_overlap_rate', 'position_above_rate', 'top_of_page_rate', 'abs_top_of_page_rate', 'search_outranking_share', 'impr']\n"
     ]
    }
   ],
   "source": [
    "for table in tables.name:\n",
    "    q = f\"\"\"\n",
    "    SELECT \n",
    "        *\n",
    "    FROM \n",
    "        {table}\n",
    "    \"\"\"\n",
    "    t = pd.read_sql(q, engine)\n",
    "    print(table, t.columns.to_list())"
   ]
  },
  {
   "cell_type": "code",
   "execution_count": 274,
   "metadata": {},
   "outputs": [],
   "source": [
    "def update_table(engine, table, data):\n",
    "    try:\n",
    "        q = f\"\"\"SELECT *FROM {table.name}\"\"\"\n",
    "        cur_data = pd.read_sql(q, engine)\n",
    "        new_data = pd.concat([cur_data, data], axis=0)\n",
    "        new_data = new_data[\n",
    "            ~new_data.duplicated(\n",
    "                subset=[c.name for c in table.primary_key.columns], keep=False\n",
    "            )\n",
    "        ]\n",
    "\n",
    "        n_updates = new_data.to_sql(\n",
    "            name=table.name, con=engine, if_exists=\"append\", index=False\n",
    "        )\n",
    "        print(f\"{n_updates if n_updates is not None else 0} rows inserted\")\n",
    "    except Exception as e:\n",
    "        raise Exception(f\"error updating database: {e}\")"
   ]
  },
  {
   "cell_type": "code",
   "execution_count": 276,
   "metadata": {},
   "outputs": [
    {
     "name": "stdout",
     "output_type": "stream",
     "text": [
      "0 rows inserted\n",
      "0 rows inserted\n",
      "0 rows inserted\n",
      "0 rows inserted\n"
     ]
    }
   ],
   "source": [
    "update_table(engine, table=accounts_table, data=accounts)\n",
    "update_table(engine, table=campaigns_table, data=campaigns)\n",
    "update_table(engine, table=adgroups_table, data=adgroups)\n",
    "update_table(engine, table=keywords_table, data=keywords)"
   ]
  },
  {
   "cell_type": "code",
   "execution_count": 282,
   "metadata": {},
   "outputs": [
    {
     "name": "stdout",
     "output_type": "stream",
     "text": [
      "accounts\n",
      "   account_id                                    account_name\n",
      "0  6074732610         AN~Bimbo_PR~Coronado_AV~FB_MK~MX_AR~STA\n",
      "1  3339924476   AN~Abbott_PR~SEM-Glucerna_AV~HM_MK~MX_AR~SPRK\n",
      "2  7236167996  AN~Abbott_PR~SEM-Pediasure_AV~HM_MK~MX_AR~SPRK\n",
      "3  5259784445     AN~Abbott_PR~SEM-Ensure_AV~HM_MK~MX_AR~SPRK\n",
      "4  2956535590    AN~Abbott_PR~SEM-Similac_AV~HM_MK~MX_AR~SPRK\n",
      "\n",
      "campaigns\n",
      "   campaign_id                                      campaign_name\n",
      "0  16249142822  031911/2023 - 000_Marzo_Ricolino_Untables_Coro...\n",
      "1  10165198298                    010388/2022_Glucerna E-commerce\n",
      "2  10173828666              120711/2021/2022_Pediasure E-commerce\n",
      "3  10173766488               120711/2021/2022_Pediasure Awareness\n",
      "4  16249136333  031911/2023 - 000_Marzo_Ricolino_Untables_Coro...\n",
      "\n",
      "adgroups\n",
      "    ad_group_id           ad_group_name\n",
      "0  136169411889      CORONADO - RECETAS\n",
      "1  136169411729  CORONADO - COMPETENCIA\n",
      "2  148076042307                 Bebible\n",
      "3  148076042107                   Brand\n",
      "4  136169411689                CORONADO\n",
      "\n",
      "keywords\n",
      "      keyword_id                  keyword_name\n",
      "0  1393455534473  ingredientes cajeta coronado\n",
      "1       19556113                       nutella\n",
      "2  1393455534153                 cajeta tillot\n",
      "3   385743183801               glucerna 237 ml\n",
      "4  1672684181430       glucerna bebible precio\n",
      "\n",
      "metrics\n",
      "Empty DataFrame\n",
      "Columns: [account_id, campaign_id, ad_group_id, keyword_id, date, display_url_domain, search_impr_share, search_overlap_rate, position_above_rate, top_of_page_rate, abs_top_of_page_rate, search_outranking_share, impr]\n",
      "Index: []\n",
      "\n"
     ]
    }
   ],
   "source": [
    "for table in tables.name:\n",
    "    q = f\"\"\"\n",
    "    SELECT \n",
    "         *\n",
    "    FROM \n",
    "        {table}\n",
    "    LIMIT 5\n",
    "    \"\"\"\n",
    "    t = pd.read_sql(q, engine)\n",
    "    print(table)\n",
    "    print(t)\n",
    "    print()"
   ]
  },
  {
   "cell_type": "code",
   "execution_count": null,
   "metadata": {},
   "outputs": [],
   "source": []
  }
 ],
 "metadata": {
  "kernelspec": {
   "display_name": "venv",
   "language": "python",
   "name": "python3"
  },
  "language_info": {
   "codemirror_mode": {
    "name": "ipython",
    "version": 3
   },
   "file_extension": ".py",
   "mimetype": "text/x-python",
   "name": "python",
   "nbconvert_exporter": "python",
   "pygments_lexer": "ipython3",
   "version": "3.10.11"
  },
  "orig_nbformat": 4
 },
 "nbformat": 4,
 "nbformat_minor": 2
}
