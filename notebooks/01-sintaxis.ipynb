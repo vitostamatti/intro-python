{
 "cells": [
  {
   "attachments": {},
   "cell_type": "markdown",
   "metadata": {},
   "source": [
    "# Sintaxis\n",
    "\n",
    "<a target=\"_blank\" href=\"https://colab.research.google.com/github/vitostamatti/intro-python/blob/main/notebooks/01-sintaxis.ipynb\">\n",
    "  <img src=\"https://colab.research.google.com/assets/colab-badge.svg\" alt=\"Open In Colab\"/>\n",
    "</a>\n"
   ]
  },
  {
   "attachments": {},
   "cell_type": "markdown",
   "metadata": {},
   "source": [
    "## Data Structures\n"
   ]
  },
  {
   "cell_type": "code",
   "execution_count": 14,
   "metadata": {},
   "outputs": [],
   "source": [
    "# Tipo de Datos\n",
    "str_var = \"hola\"\n",
    "str_var = \"hola\"\n",
    "bool_var = True\n",
    "bool_var = False\n",
    "int_var = 1\n",
    "float_var = 1.0\n",
    "list_var = [1, 2, 3]\n",
    "list_var = list()\n",
    "tuple_var = (1, 2, 3)\n",
    "tuple_var = tuple()\n",
    "set_var = {1, 2, 3}\n",
    "set_var = set()  # empty set\n",
    "dict_var = {\"key\": \"value\"}\n",
    "dict_var = dict(key=\"value\")"
   ]
  },
  {
   "cell_type": "code",
   "execution_count": 9,
   "metadata": {},
   "outputs": [
    {
     "data": {
      "text/plain": [
       "True"
      ]
     },
     "execution_count": 9,
     "metadata": {},
     "output_type": "execute_result"
    }
   ],
   "source": [
    "# str methods\n",
    "str_var.capitalize()\n",
    "str_var.casefold()\n",
    "str_var.endswith(\"la\")\n",
    "str_var.isalpha()\n",
    "pass"
   ]
  },
  {
   "cell_type": "code",
   "execution_count": 11,
   "metadata": {},
   "outputs": [
    {
     "data": {
      "text/plain": [
       "2"
      ]
     },
     "execution_count": 11,
     "metadata": {},
     "output_type": "execute_result"
    }
   ],
   "source": [
    "# list methods\n",
    "list_var.clear()\n",
    "list_var = [1, 2, 3]\n",
    "list_var.append(4)\n",
    "list_var.pop()\n",
    "list_var.index(3)\n",
    "pass"
   ]
  },
  {
   "cell_type": "code",
   "execution_count": 14,
   "metadata": {},
   "outputs": [
    {
     "data": {
      "text/plain": [
       "{1, 2, 3, 4, 5}"
      ]
     },
     "execution_count": 14,
     "metadata": {},
     "output_type": "execute_result"
    }
   ],
   "source": [
    "# set methods\n",
    "set_var = {1, 2, 3}\n",
    "set_var2 = {3, 4, 5}\n",
    "set_var.intersection(set_var2)\n",
    "set_var.difference(set_var2)\n",
    "set_var.union(set_var2)\n",
    "pass"
   ]
  },
  {
   "cell_type": "code",
   "execution_count": 20,
   "metadata": {},
   "outputs": [],
   "source": [
    "# dict methods\n",
    "dict_var = {\"k1\": \"value\", \"k2\": \"value\"}\n",
    "dict_var.keys()\n",
    "dict_var.items()\n",
    "dict_var.values()\n",
    "dict_var[\"k1\"]\n",
    "dict_var.get(\"k3\", \"No value for key k3\")\n",
    "dict_var.update({\"k2\": \"value2\"})\n",
    "dict_var\n",
    "pass"
   ]
  },
  {
   "attachments": {},
   "cell_type": "markdown",
   "metadata": {},
   "source": [
    "## Flow Control Structures\n"
   ]
  },
  {
   "cell_type": "code",
   "execution_count": 19,
   "metadata": {},
   "outputs": [
    {
     "name": "stdout",
     "output_type": "stream",
     "text": [
      "n is positive\n"
     ]
    }
   ],
   "source": [
    "n = 10\n",
    "if n > 0:\n",
    "    print(\"n is positive\")\n",
    "elif n < 0:\n",
    "    print(\"n is negative\")\n",
    "else:\n",
    "    print(\"n is cero\")"
   ]
  },
  {
   "cell_type": "code",
   "execution_count": 10,
   "metadata": {},
   "outputs": [
    {
     "name": "stdout",
     "output_type": "stream",
     "text": [
      "0\n",
      "1\n",
      "2\n",
      "3\n",
      "4\n",
      "5\n",
      "6\n",
      "7\n",
      "8\n",
      "9\n"
     ]
    }
   ],
   "source": [
    "# for\n",
    "for i in range(10):\n",
    "    print(i)\n",
    "\n",
    "words = [\"hello\", \"world\"]\n",
    "for word in words:\n",
    "    print(word)"
   ]
  },
  {
   "cell_type": "code",
   "execution_count": 8,
   "metadata": {},
   "outputs": [
    {
     "name": "stdout",
     "output_type": "stream",
     "text": [
      "10\n",
      "9\n",
      "8\n",
      "7\n",
      "6\n",
      "5\n",
      "4\n",
      "3\n",
      "2\n",
      "1\n"
     ]
    }
   ],
   "source": [
    "# while\n",
    "n = 10\n",
    "while n > 0:\n",
    "    print(n)\n",
    "    n -= 1"
   ]
  },
  {
   "cell_type": "code",
   "execution_count": 14,
   "metadata": {},
   "outputs": [
    {
     "name": "stdout",
     "output_type": "stream",
     "text": [
      "not printing this number\n",
      "1\n",
      "not printing this number\n",
      "3\n",
      "not printing this number\n",
      "5\n",
      "not printing this number\n",
      "7\n",
      "not printing this number\n",
      "9\n",
      "braking the loop\n"
     ]
    }
   ],
   "source": [
    "# pass/continue/break\n",
    "for i in range(10):\n",
    "    if i == 0:  ## just passing by\n",
    "        pass\n",
    "    if i % 2 == 0:\n",
    "        print(\"not printing this number\")\n",
    "        continue\n",
    "    print(i)\n",
    "    if i == 9:\n",
    "        print(\"braking the loop\")\n",
    "        break"
   ]
  },
  {
   "cell_type": "code",
   "execution_count": 26,
   "metadata": {},
   "outputs": [
    {
     "data": {
      "text/plain": [
       "{'item1': 0, 'item2': 1, 'item3': 2}"
      ]
     },
     "execution_count": 26,
     "metadata": {},
     "output_type": "execute_result"
    }
   ],
   "source": [
    "# comprehension\n",
    "[i for i in range(10)]\n",
    "{item: idx for idx, item in enumerate([\"item1\", \"item2\", \"item3\"])}\n",
    "pass"
   ]
  },
  {
   "attachments": {},
   "cell_type": "markdown",
   "metadata": {},
   "source": [
    "## Classes and Functions\n"
   ]
  },
  {
   "cell_type": "code",
   "execution_count": 16,
   "metadata": {},
   "outputs": [
    {
     "data": {
      "text/plain": [
       "3"
      ]
     },
     "execution_count": 16,
     "metadata": {},
     "output_type": "execute_result"
    }
   ],
   "source": [
    "def suma(a, b):\n",
    "    return a + b\n",
    "\n",
    "\n",
    "suma(1, 2)"
   ]
  },
  {
   "cell_type": "code",
   "execution_count": 21,
   "metadata": {},
   "outputs": [
    {
     "data": {
      "text/plain": [
       "3"
      ]
     },
     "execution_count": 21,
     "metadata": {},
     "output_type": "execute_result"
    }
   ],
   "source": [
    "suma = lambda a, b: a + b\n",
    "suma(1, 2)"
   ]
  },
  {
   "cell_type": "code",
   "execution_count": 23,
   "metadata": {},
   "outputs": [
    {
     "data": {
      "text/plain": [
       "3"
      ]
     },
     "execution_count": 23,
     "metadata": {},
     "output_type": "execute_result"
    }
   ],
   "source": [
    "def create_suma_func():\n",
    "    def _suma(a, b):\n",
    "        return a + b\n",
    "\n",
    "    return _suma\n",
    "\n",
    "\n",
    "suma = create_suma_func()\n",
    "suma(1, 2)"
   ]
  },
  {
   "cell_type": "code",
   "execution_count": 25,
   "metadata": {},
   "outputs": [
    {
     "data": {
      "text/plain": [
       "3"
      ]
     },
     "execution_count": 25,
     "metadata": {},
     "output_type": "execute_result"
    }
   ],
   "source": [
    "def suma(*numbers):\n",
    "    total = 0\n",
    "    for n in numbers:\n",
    "        total += n\n",
    "    return total\n",
    "\n",
    "\n",
    "suma(1, 2)"
   ]
  },
  {
   "cell_type": "code",
   "execution_count": 31,
   "metadata": {},
   "outputs": [
    {
     "name": "stdout",
     "output_type": "stream",
     "text": [
      "Hi, my name is John and I'm 20 years old.\n",
      "Hi, my name is Jenny and I'm 10 years old.\n"
     ]
    }
   ],
   "source": [
    "class Person:\n",
    "    # constructor\n",
    "    def __init__(self, name, age):\n",
    "        self.name = name\n",
    "        self.age = age\n",
    "\n",
    "    def present(self):\n",
    "        print(f\"Hi, my name is {self.name} and I'm {self.age} years old.\")\n",
    "\n",
    "    # static method\n",
    "    @classmethod  # decorators\n",
    "    def create(cls, name, age):\n",
    "        return cls(name, age)\n",
    "\n",
    "\n",
    "p = Person(\"John\", 20)\n",
    "p.present()\n",
    "p = Person.create(\"Jenny\", 10)\n",
    "p.present()"
   ]
  },
  {
   "cell_type": "code",
   "execution_count": 1,
   "metadata": {},
   "outputs": [
    {
     "name": "stdout",
     "output_type": "stream",
     "text": [
      "Hi, my name is Kenny and I'm 25 years old.\n",
      "I'm a user with email kenny@gmail.com\n"
     ]
    }
   ],
   "source": [
    "# inheritance\n",
    "class Person:\n",
    "    # constructor\n",
    "    def __init__(self, name, age):\n",
    "        self.name = name\n",
    "        self.age = age\n",
    "\n",
    "    def present(self):\n",
    "        print(f\"Hi, my name is {self.name} and I'm {self.age} years old.\")\n",
    "\n",
    "\n",
    "class User(Person):\n",
    "    def __init__(self, name, age, email):\n",
    "        super().__init__(name, age)\n",
    "        self.email = email\n",
    "\n",
    "    def present(self):\n",
    "        super().present()\n",
    "        print(f\"I'm a user with email {self.email}\")\n",
    "\n",
    "\n",
    "u = User(\"Kenny\", 25, \"kenny@gmail.com\")\n",
    "u.present()"
   ]
  },
  {
   "cell_type": "code",
   "execution_count": null,
   "metadata": {},
   "outputs": [],
   "source": []
  }
 ],
 "metadata": {
  "kernelspec": {
   "display_name": "Python 3",
   "language": "python",
   "name": "python3"
  },
  "language_info": {
   "codemirror_mode": {
    "name": "ipython",
    "version": 3
   },
   "file_extension": ".py",
   "mimetype": "text/x-python",
   "name": "python",
   "nbconvert_exporter": "python",
   "pygments_lexer": "ipython3",
   "version": "3.10.11"
  },
  "orig_nbformat": 4
 },
 "nbformat": 4,
 "nbformat_minor": 2
}
