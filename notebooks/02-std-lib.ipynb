{
 "cells": [
  {
   "cell_type": "code",
   "execution_count": 10,
   "metadata": {},
   "outputs": [],
   "source": [
    "import os\n",
    "os.getcwd() # returns the current working directory\n",
    "os.listdir(\".\") # list of files \n",
    "os.path.join(\"../relative_path\",\"file_inside_path.py\") # \"../relative_path/file_inside_path.py\"\n",
    "os.path.exists(\"some_file_or_path.py\") # true/false\n",
    "os.path.basename(\"gets/the/base/of/a/path/file.py\") # returns file.py\n",
    "os.getenv(\"path\") # env variables on system\n",
    "pass"
   ]
  },
  {
   "cell_type": "code",
   "execution_count": 64,
   "metadata": {},
   "outputs": [],
   "source": [
    "import re\n",
    "pattern = \"[0-9]?[0-9]:[0-9][0-9]\" # match hour like pattern hh:mm\n",
    "string = \"a string with a pattern 13:20 inside\"\n",
    "re.search(pattern=pattern,string=string).group() # \"13:20\"\n",
    "re.sub(pattern,\"\",string) # \"a string with a pattern  inside\"\n",
    "re.findall(pattern=pattern,string=string) # [\"13:20\"]\n",
    "re.split(pattern=pattern,string=string) # [\"a string with a pattern\", \"inside\"]\n",
    "pass"
   ]
  },
  {
   "cell_type": "code",
   "execution_count": 75,
   "metadata": {},
   "outputs": [],
   "source": [
    "import datetime\n",
    "datetime.datetime.now() # datetime.datetime(2023, 4, 24, 10, 54, 39, 969737)\n",
    "datetime.datetime.fromisoformat(\"2022-03-02\")\n",
    "datetime.datetime.now() - datetime.datetime.fromisoformat(\"2022-03-02\")\n",
    "pass"
   ]
  },
  {
   "cell_type": "code",
   "execution_count": null,
   "metadata": {},
   "outputs": [],
   "source": [
    "import argparse\n",
    "parser = argparse.ArgumentParser()\n",
    "parser.add_argument(\"echo\", help=\"echo the string you use here\")\n",
    "args = parser.parse_args()\n",
    "print(args.echo)"
   ]
  }
 ],
 "metadata": {
  "kernelspec": {
   "display_name": "Python 3",
   "language": "python",
   "name": "python3"
  },
  "language_info": {
   "codemirror_mode": {
    "name": "ipython",
    "version": 3
   },
   "file_extension": ".py",
   "mimetype": "text/x-python",
   "name": "python",
   "nbconvert_exporter": "python",
   "pygments_lexer": "ipython3",
   "version": "3.10.11"
  },
  "orig_nbformat": 4
 },
 "nbformat": 4,
 "nbformat_minor": 2
}
