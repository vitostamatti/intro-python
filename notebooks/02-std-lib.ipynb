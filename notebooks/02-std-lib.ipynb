{
 "cells": [
  {
   "attachments": {},
   "cell_type": "markdown",
   "metadata": {},
   "source": [
    "# Standard Library\n",
    "\n",
    "<a target=\"_blank\" href=\"https://colab.research.google.com/github/vitostamatti/intro-python/blob/main/notebooks/02-std-lib.ipynb\">\n",
    "  <img src=\"https://colab.research.google.com/assets/colab-badge.svg\" alt=\"Open In Colab\"/>\n",
    "</a>\n"
   ]
  },
  {
   "attachments": {},
   "cell_type": "markdown",
   "metadata": {},
   "source": [
    "## os (Operating System)\n"
   ]
  },
  {
   "cell_type": "code",
   "execution_count": 10,
   "metadata": {},
   "outputs": [],
   "source": [
    "import os\n",
    "\n",
    "os.getcwd()  # returns the current working directory\n",
    "os.listdir(\".\")  # list of files\n",
    "os.path.join(\n",
    "    \"../relative_path\", \"file_inside_path.py\"\n",
    ")  # \"../relative_path/file_inside_path.py\"\n",
    "os.path.exists(\"some_file_or_path.py\")  # true/false\n",
    "os.path.basename(\"gets/the/base/of/a/path/file.py\")  # returns file.py\n",
    "os.environ  # environment variables\n",
    "os.getenv(\"path\")  # path env variables on system\n",
    "pass"
   ]
  },
  {
   "attachments": {},
   "cell_type": "markdown",
   "metadata": {},
   "source": [
    "## re (Regex Expressions)\n"
   ]
  },
  {
   "cell_type": "code",
   "execution_count": 64,
   "metadata": {},
   "outputs": [],
   "source": [
    "import re\n",
    "\n",
    "pattern = \"[0-9]?[0-9]:[0-9][0-9]\"  # match hour like pattern hh:mm\n",
    "string = \"a string with a pattern 13:20 inside\"\n",
    "re.search(pattern=pattern, string=string).group()  # \"13:20\"\n",
    "re.sub(pattern, \"\", string)  # \"a string with a pattern  inside\"\n",
    "re.findall(pattern=pattern, string=string)  # [\"13:20\"]\n",
    "re.split(pattern=pattern, string=string)  # [\"a string with a pattern\", \"inside\"]\n",
    "pass"
   ]
  },
  {
   "attachments": {},
   "cell_type": "markdown",
   "metadata": {},
   "source": [
    "## datetime (Time and Dates)\n"
   ]
  },
  {
   "cell_type": "code",
   "execution_count": 75,
   "metadata": {},
   "outputs": [],
   "source": [
    "import datetime\n",
    "\n",
    "datetime.datetime.now()  # datetime.datetime(2023, 4, 24, 10, 54, 39, 969737)\n",
    "datetime.datetime.fromisoformat(\"2022-03-02\")\n",
    "datetime.datetime.now() - datetime.datetime.fromisoformat(\"2022-03-02\")\n",
    "pass"
   ]
  },
  {
   "attachments": {},
   "cell_type": "markdown",
   "metadata": {},
   "source": [
    "## argparse (Console Arguments Parser)\n"
   ]
  },
  {
   "cell_type": "code",
   "execution_count": null,
   "metadata": {},
   "outputs": [],
   "source": [
    "import argparse\n",
    "\n",
    "parser = argparse.ArgumentParser()\n",
    "parser.add_argument(\"echo\", help=\"echo the string you use here\")\n",
    "args = parser.parse_args()\n",
    "print(args.echo)"
   ]
  }
 ],
 "metadata": {
  "kernelspec": {
   "display_name": "Python 3",
   "language": "python",
   "name": "python3"
  },
  "language_info": {
   "codemirror_mode": {
    "name": "ipython",
    "version": 3
   },
   "file_extension": ".py",
   "mimetype": "text/x-python",
   "name": "python",
   "nbconvert_exporter": "python",
   "pygments_lexer": "ipython3",
   "version": "3.10.11"
  },
  "orig_nbformat": 4
 },
 "nbformat": 4,
 "nbformat_minor": 2
}
